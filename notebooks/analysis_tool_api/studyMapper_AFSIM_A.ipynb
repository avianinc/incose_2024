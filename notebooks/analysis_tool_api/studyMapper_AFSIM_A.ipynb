{
 "cells": [
  {
   "cell_type": "code",
   "execution_count": 2,
   "id": "74cec43a-7024-46d9-a419-1e8db9d643e4",
   "metadata": {
    "slideshow": {
     "slide_type": "slide"
    },
    "tags": []
   },
   "outputs": [
    {
     "name": "stdout",
     "output_type": "stream",
     "text": [
      "WARNING:Duplicate of other owned member name (2.sysml line : 27 column : 9)\n",
      "WARNING:Duplicate of other owned member name (2.sysml line : 28 column : 9)\n",
      "WARNING:Duplicate of other owned member name (2.sysml line : 29 column : 9)\n",
      "WARNING:Duplicate of other owned member name (2.sysml line : 32 column : 9)\n",
      "WARNING:Duplicate of other owned member name (2.sysml line : 33 column : 9)\n",
      "WARNING:Duplicate of other owned member name (2.sysml line : 34 column : 9)\n",
      "WARNING:Duplicate of other owned member name (2.sysml line : 42 column : 12)\n",
      "WARNING:Duplicate of other owned member name (2.sysml line : 43 column : 12)\n",
      "WARNING:Duplicate of other owned member name (2.sysml line : 44 column : 12)\n",
      "WARNING:Duplicate of other owned member name (2.sysml line : 45 column : 13)\n",
      "WARNING:Duplicate of other owned member name (2.sysml line : 46 column : 13)\n",
      "WARNING:Duplicate of other owned member name (2.sysml line : 47 column : 13)\n"
     ]
    },
    {
     "data": {
      "text/plain": [
       "Package studyMapper_AFSIM_A (a4953502-44c4-42d0-b0f9-fcf0112484e8)\n"
      ]
     },
     "execution_count": 2,
     "metadata": {},
     "output_type": "execute_result"
    }
   ],
   "source": [
    "package studyMapper_AFSIM_A {\n",
    "\n",
    "    doc /* AFSIM 2.2404.0\n",
    "    SysML v2 Study Mapper Template Example */\n",
    "\n",
    "    import ScalarValues::Real;\n",
    "    import AnalysisTooling::*;\n",
    "    import ISQ::*;\n",
    "    \n",
    "    action def c_Simulator {\n",
    "    \n",
    "        metadata ToolExecution {\n",
    "            toolName = \"afsim-2.2402.0-headless\";\n",
    "            uri = \"http://10.10.20.222:5000/afsim_execute\";\n",
    "        }\n",
    "        \n",
    "        // Study Definition (mission model ids)\n",
    "        projectId = \"5db467f8-02bf-43cd-98f4-4315f66ddb53\";\n",
    "        commitId = \"9164a608-d997-4fed-92a4-fb213c46d938\";\n",
    "        modelName = \"1v1.afsim\";\n",
    "        resultsLoc = \"/mnt/cdefs/results\";\n",
    "        maifestFile = \"/mnt/cdefs/templates/afsim/afsim_test.zip\"; \n",
    "        startFile = \"1v1.afsim\";\n",
    "        apiCall = \"curl -X POST $uri -F 'file=@$manifestFile' -F 'start_file=$startFile'\";\n",
    "        \n",
    "        // Performance paramters\n",
    "        p_speed = \"missionModel_simple::uav::speed\";\n",
    "        p_range = \"missionModel_simple::uav::range\";\n",
    "        p_cargoCapacity = \"missionModel_simple::uav::cargoCap\";\n",
    "        \n",
    "        // Constratint parmaters\n",
    "        c_calculatedSpeed = \"missionModel_simple::UAV_Performance::UAV_Speed::measuredSpeed\";\n",
    "        c_calculatedRange = \"missionModel_simple::UAV_Performance::UAV_Range::measuredRange\";\n",
    "        c_calculatedCargoCap = \"missionModel_simple::UAV_Performance::UAV_Range::measuredCargpCap\";\n",
    "        \n",
    "        // Constraints\n",
    "        c1 = \"missionModel_simple::UAV_Performance::UAV_Speed::requiredSpeedConstarint\";\n",
    "        c2 = \"missionModel_simple::UAV_Performance::UAV_Range::requiredRangeConstarint\";\n",
    "        c3 = \"missionModel_simple::UAV_Performance::UAV_CargoCap::requiredCargoCapConstarint\";\n",
    "        \n",
    "        // Mapping definition\n",
    "        in p_speed: Real                 { @ToolVariable { name = \"speed\"; } }\n",
    "        in p_range: Real                 { @ToolVariable { name = \"range\"; } }\n",
    "        in p_cargoCapacity: Real         { @ToolVariable { name = \"cargoCap\"; } }\n",
    "        out c_calculatedSpeed: Real      { @ToolVariable { name = \"a_speed\"; } }\n",
    "        out c_calculatedRange: Real      { @ToolVariable { name = \"a_range\"; } }\n",
    "        out c_calculatedCargoCap: Real   { @ToolVariable { name = \"a_cargoCap\"; } }\n",
    "        \n",
    "    }\n",
    "    \n",
    "    comment about c_Simulator /* This studyMapper represents an example \n",
    "    of how to potentially define a study method in SysML v2. This method can be published \n",
    "    and queried as a part of a digital workflow. Defining the method and attributes\n",
    "    to perform a SysML v2 defined model analysis.*/\n",
    "    \n",
    "    comment about c_Simulator /* TBD */\n",
    "    \n",
    "}"
   ]
  },
  {
   "cell_type": "code",
   "execution_count": 3,
   "id": "6103f86b-0bcc-41fe-bc69-e5fd64cda6a4",
   "metadata": {},
   "outputs": [
    {
     "data": {
      "image/svg+xml": [
       "<?xml version=\"1.0\" encoding=\"UTF-8\" standalone=\"no\"?><svg xmlns=\"http://www.w3.org/2000/svg\" xmlns:xlink=\"http://www.w3.org/1999/xlink\" contentStyleType=\"text/css\" height=\"538px\" preserveAspectRatio=\"none\" style=\"width:1450px;height:538px;background:#FFFFFF;\" version=\"1.1\" viewBox=\"0 0 1450 538\" width=\"1450px\" zoomAndPan=\"magnify\"><defs/><g><!--MD5=[fbc87193dbaf4d95561dea2c320d4a47]\n",
       "cluster E1--><g id=\"cluster_E1\"><a href=\"psysml:a4953502-44c4-42d0-b0f9-fcf0112484e8\" target=\"_top\" title=\"psysml:a4953502-44c4-42d0-b0f9-fcf0112484e8\" xlink:actuate=\"onRequest\" xlink:href=\"psysml:a4953502-44c4-42d0-b0f9-fcf0112484e8\" xlink:show=\"new\" xlink:title=\"psysml:a4953502-44c4-42d0-b0f9-fcf0112484e8\" xlink:type=\"simple\"><path d=\"M8.5,6 L171.8125,6 A3.75,3.75 0 0 1 174.3125,8.5 L181.3125,28.2969 L1421.5,28.2969 A2.5,2.5 0 0 1 1424,30.7969 L1424,528.57 A2.5,2.5 0 0 1 1421.5,531.07 L8.5,531.07 A2.5,2.5 0 0 1 6,528.57 L6,8.5 A2.5,2.5 0 0 1 8.5,6 \" fill=\"none\" style=\"stroke:#000000;stroke-width:1.5;\"/><line style=\"stroke:#000000;stroke-width:1.5;\" x1=\"6\" x2=\"181.3125\" y1=\"28.2969\" y2=\"28.2969\"/><text fill=\"#000000\" font-family=\"sans-serif\" font-size=\"14\" font-weight=\"bold\" lengthAdjust=\"spacing\" textLength=\"162.3125\" x=\"10\" y=\"20.9951\">studyMapper_AFSIM_A</text></a></g><!--MD5=[09b614a08d8cba4a07c9adeb5e0fee81]\n",
       "class E3--><a href=\"psysml:f562f56d-0309-4561-a417-a5f9ab006444\" target=\"_top\" title=\"psysml:f562f56d-0309-4561-a417-a5f9ab006444\" xlink:actuate=\"onRequest\" xlink:href=\"psysml:f562f56d-0309-4561-a417-a5f9ab006444\" xlink:show=\"new\" xlink:title=\"psysml:f562f56d-0309-4561-a417-a5f9ab006444\" xlink:type=\"simple\"><g id=\"elem_E3\"><rect fill=\"#F1F1F1\" height=\"319.5344\" id=\"E3\" rx=\"2.5\" ry=\"2.5\" style=\"stroke:#181818;stroke-width:0.5;\" width=\"713\" x=\"42.5\" y=\"187.54\"/><ellipse cx=\"341.25\" cy=\"207.6728\" fill=\"#ADD1B2\" rx=\"11\" ry=\"11\" style=\"stroke:#181818;stroke-width:1.0;\"/><path d=\"M341,212.8603 Q339.8438,212.8603 338.875,212.2978 Q337.9219,211.7197 337.3438,210.5166 Q336.7813,209.3134 336.7813,207.4384 Q336.7813,205.8759 337.1563,204.8134 Q337.5469,203.7509 338.1719,203.1259 Q338.7969,202.4853 339.5469,202.2041 Q340.3125,201.9228 341.0625,201.9228 Q342.25,201.9228 343.1094,202.4697 Q343.9688,203.0166 344.4063,204.0009 L343.2031,204.9072 L343.0625,204.9853 L342.9844,204.8603 Q343,204.7353 342.9531,204.6103 Q342.9063,204.4853 342.7813,204.2353 Q342.4063,203.7978 342,203.6416 Q341.6094,203.4697 341.1563,203.4697 Q340.5156,203.4697 339.9375,203.9228 Q339.375,204.3603 339.0313,205.2197 Q338.6875,206.0791 338.6875,207.3447 Q338.6875,209.1884 339.3594,210.2353 Q340.0313,211.2822 341.0469,211.2822 Q341.6719,211.2822 342.125,211.0166 Q342.5938,210.7353 342.9688,210.1103 L344.2969,211.0947 Q343.7031,212.0634 342.8906,212.4697 Q342.0781,212.8603 341,212.8603 Z \" fill=\"#000000\"/><text fill=\"#000000\" font-family=\"sans-serif\" font-size=\"12\" font-style=\"italic\" lengthAdjust=\"spacing\" textLength=\"111\" x=\"359.75\" y=\"203.6787\">«#ToolExecution»</text><text fill=\"#000000\" font-family=\"sans-serif\" font-size=\"14\" lengthAdjust=\"spacing\" textLength=\"79\" x=\"375.75\" y=\"219.5039\">c_Simulator</text><line style=\"stroke:#181818;stroke-width:0.5;\" x1=\"43.5\" x2=\"754.5\" y1=\"227.8056\" y2=\"227.8056\"/><text fill=\"#000000\" font-family=\"sans-serif\" font-size=\"14\" lengthAdjust=\"spacing\" textLength=\"511\" x=\"48.5\" y=\"255.3195\">apiCall = \"curl -X POST $uri -F 'file=@$manifestFile' -F 'start_file=$startFile'\"</text><text fill=\"#000000\" font-family=\"sans-serif\" font-size=\"14\" lengthAdjust=\"spacing\" textLength=\"601\" x=\"48.5\" y=\"271.6164\">c1 = \"missionModel_simple::UAV_Performance::UAV_Speed::requiredSpeedConstarint\"</text><text fill=\"#000000\" font-family=\"sans-serif\" font-size=\"14\" lengthAdjust=\"spacing\" textLength=\"601\" x=\"48.5\" y=\"287.9132\">c2 = \"missionModel_simple::UAV_Performance::UAV_Range::requiredRangeConstarint\"</text><text fill=\"#000000\" font-family=\"sans-serif\" font-size=\"14\" lengthAdjust=\"spacing\" textLength=\"647\" x=\"48.5\" y=\"304.2101\">c3 = \"missionModel_simple::UAV_Performance::UAV_CargoCap::requiredCargoCapConstarint\"</text><text fill=\"#000000\" font-family=\"sans-serif\" font-size=\"14\" lengthAdjust=\"spacing\" textLength=\"701\" x=\"48.5\" y=\"320.507\">c_calculatedCargoCap = \"missionModel_simple::UAV_Performance::UAV_Range::measuredCargpCap\"</text><text fill=\"#000000\" font-family=\"sans-serif\" font-size=\"14\" lengthAdjust=\"spacing\" textLength=\"655\" x=\"48.5\" y=\"336.8039\">c_calculatedRange = \"missionModel_simple::UAV_Performance::UAV_Range::measuredRange\"</text><text fill=\"#000000\" font-family=\"sans-serif\" font-size=\"14\" lengthAdjust=\"spacing\" textLength=\"655\" x=\"48.5\" y=\"353.1007\">c_calculatedSpeed = \"missionModel_simple::UAV_Performance::UAV_Speed::measuredSpeed\"</text><text fill=\"#000000\" font-family=\"sans-serif\" font-size=\"14\" lengthAdjust=\"spacing\" textLength=\"388\" x=\"48.5\" y=\"369.3976\">commitId = \"9164a608-d997-4fed-92a4-fb213c46d938\"</text><text fill=\"#000000\" font-family=\"sans-serif\" font-size=\"14\" lengthAdjust=\"spacing\" textLength=\"392\" x=\"48.5\" y=\"385.6945\">maifestFile = \"/mnt/cdefs/templates/afsim/afsim_test.zip\"</text><text fill=\"#000000\" font-family=\"sans-serif\" font-size=\"14\" lengthAdjust=\"spacing\" textLength=\"178\" x=\"48.5\" y=\"401.9914\">modelName = \"1v1.afsim\"</text><text fill=\"#000000\" font-family=\"sans-serif\" font-size=\"14\" lengthAdjust=\"spacing\" textLength=\"400\" x=\"48.5\" y=\"418.2882\">p_cargoCapacity = \"missionModel_simple::uav::cargoCap\"</text><text fill=\"#000000\" font-family=\"sans-serif\" font-size=\"14\" lengthAdjust=\"spacing\" textLength=\"317\" x=\"48.5\" y=\"434.5851\">p_range = \"missionModel_simple::uav::range\"</text><text fill=\"#000000\" font-family=\"sans-serif\" font-size=\"14\" lengthAdjust=\"spacing\" textLength=\"325\" x=\"48.5\" y=\"450.882\">p_speed = \"missionModel_simple::uav::speed\"</text><text fill=\"#000000\" font-family=\"sans-serif\" font-size=\"14\" lengthAdjust=\"spacing\" textLength=\"377\" x=\"48.5\" y=\"467.1789\">projectId = \"5db467f8-02bf-43cd-98f4-4315f66ddb53\"</text><text fill=\"#000000\" font-family=\"sans-serif\" font-size=\"14\" lengthAdjust=\"spacing\" textLength=\"228\" x=\"48.5\" y=\"483.4757\">resultsLoc = \"/mnt/cdefs/results\"</text><text fill=\"#000000\" font-family=\"sans-serif\" font-size=\"14\" lengthAdjust=\"spacing\" textLength=\"149\" x=\"48.5\" y=\"499.7726\">startFile = \"1v1.afsim\"</text><text fill=\"#000000\" font-family=\"sans-serif\" font-size=\"14\" font-style=\"italic\" lengthAdjust=\"spacing\" textLength=\"75\" x=\"361.5\" y=\"240.1523\">references</text></g></a><g id=\"elem_E2\"><path d=\"M1094.5,68.14 L1094.5,108.4056 L1391.5,108.4056 L1391.5,78.14 L1381.5,68.14 L1094.5,68.14 \" fill=\"#FEFFDD\" style=\"stroke:#181818;stroke-width:0.5;\"/><path d=\"M1381.5,68.14 L1381.5,78.14 L1391.5,78.14 L1381.5,68.14 \" fill=\"#FEFFDD\" style=\"stroke:#181818;stroke-width:1.0;\"/><a href=\"psysml:460adb4f-7617-4022-8d68-89b7a5e115d8\" target=\"_top\" title=\"psysml:460adb4f-7617-4022-8d68-89b7a5e115d8\" xlink:actuate=\"onRequest\" xlink:href=\"psysml:460adb4f-7617-4022-8d68-89b7a5e115d8\" xlink:show=\"new\" xlink:title=\"psysml:460adb4f-7617-4022-8d68-89b7a5e115d8\" xlink:type=\"simple\"><text fill=\"#0000FF\" font-family=\"sans-serif\" font-size=\"13\" lengthAdjust=\"spacing\" text-decoration=\"underline\" textLength=\"13\" x=\"1100.5\" y=\"85.2069\">@</text></a><text fill=\"#000000\" font-family=\"sans-serif\" font-size=\"13\" lengthAdjust=\"spacing\" textLength=\"99\" x=\"1113.5\" y=\"85.2069\">AFSIM 2.2404.0</text><text fill=\"#000000\" font-family=\"sans-serif\" font-size=\"13\" lengthAdjust=\"spacing\" textLength=\"276\" x=\"1100.5\" y=\"100.3397\">SysML v2 Study Mapper Template Example</text></g><g id=\"elem_E4\"><path d=\"M734.5,49 L734.5,127.5313 L1059.5,127.5313 L1059.5,59 L1049.5,49 L734.5,49 \" fill=\"#FEFFDD\" style=\"stroke:#181818;stroke-width:0.5;\"/><path d=\"M1049.5,49 L1049.5,59 L1059.5,59 L1049.5,49 \" fill=\"#FEFFDD\" style=\"stroke:#181818;stroke-width:1.0;\"/><text fill=\"#000000\" font-family=\"monospace\" font-size=\"13\" lengthAdjust=\"spacing\" textLength=\"98\" x=\"740.5\" y=\"66.6628\">              </text><a href=\"psysml:8cb820c5-64cb-47d0-8077-c2e855eae25d\" target=\"_top\" title=\"psysml:8cb820c5-64cb-47d0-8077-c2e855eae25d\" xlink:actuate=\"onRequest\" xlink:href=\"psysml:8cb820c5-64cb-47d0-8077-c2e855eae25d\" xlink:show=\"new\" xlink:title=\"psysml:8cb820c5-64cb-47d0-8077-c2e855eae25d\" xlink:type=\"simple\"><text fill=\"#0000FF\" font-family=\"sans-serif\" font-size=\"13\" lengthAdjust=\"spacing\" text-decoration=\"underline\" textLength=\"79\" x=\"838.5\" y=\"66.0669\">«metadata»</text></a><text fill=\"#000000\" font-family=\"monospace\" font-size=\"13\" font-style=\"italic\" lengthAdjust=\"spacing\" textLength=\"91\" x=\"740.5\" y=\"81.7956\">             </text><text fill=\"#000000\" font-family=\"sans-serif\" font-size=\"13\" font-style=\"italic\" lengthAdjust=\"spacing\" textLength=\"88\" x=\"831.5\" y=\"81.1997\">ToolExecution</text><line style=\"stroke:#181818;stroke-width:1.0;\" x1=\"735.5\" x2=\"1058.5\" y1=\"84.2656\" y2=\"84.2656\"/><text fill=\"#000000\" font-family=\"sans-serif\" font-size=\"13\" lengthAdjust=\"spacing\" textLength=\"254\" x=\"740.5\" y=\"100.3325\">toolName =  \"afsim-2.2402.0-headless\"</text><text fill=\"#000000\" font-family=\"sans-serif\" font-size=\"13\" lengthAdjust=\"spacing\" textLength=\"304\" x=\"740.5\" y=\"115.4653\">uri =  \"http://10.10.20.222:5000/afsim_execute\"</text></g><g id=\"elem_E5\"><path d=\"M124.5,53 L124.5,123.5313 A0,0 0 0 0 124.5,123.5313 L406.25,123.5313 L407.05,187.15 L414.25,123.5313 L699.5,123.5313 A0,0 0 0 0 699.5,123.5313 L699.5,63 L689.5,53 L124.5,53 A0,0 0 0 0 124.5,53 \" fill=\"#FEFFDD\" style=\"stroke:#181818;stroke-width:0.5;\"/><path d=\"M689.5,53 L689.5,63 L699.5,63 L689.5,53 \" fill=\"#FEFFDD\" style=\"stroke:#181818;stroke-width:0.5;\"/><a href=\"psysml:0773076f-fec2-4838-b7c6-4d01f7cd7cd9\" target=\"_top\" title=\"psysml:0773076f-fec2-4838-b7c6-4d01f7cd7cd9\" xlink:actuate=\"onRequest\" xlink:href=\"psysml:0773076f-fec2-4838-b7c6-4d01f7cd7cd9\" xlink:show=\"new\" xlink:title=\"psysml:0773076f-fec2-4838-b7c6-4d01f7cd7cd9\" xlink:type=\"simple\"><text fill=\"#0000FF\" font-family=\"sans-serif\" font-size=\"13\" lengthAdjust=\"spacing\" text-decoration=\"underline\" textLength=\"13\" x=\"130.5\" y=\"70.0669\">@</text></a><text fill=\"#000000\" font-family=\"sans-serif\" font-size=\"13\" lengthAdjust=\"spacing\" textLength=\"264\" x=\"143.5\" y=\"70.0669\">This studyMapper represents an example</text><text fill=\"#000000\" font-family=\"sans-serif\" font-size=\"13\" lengthAdjust=\"spacing\" textLength=\"554\" x=\"130.5\" y=\"85.1997\">of how to potentially define a study method in SysML v2. This method can be published</text><text fill=\"#000000\" font-family=\"sans-serif\" font-size=\"13\" lengthAdjust=\"spacing\" textLength=\"497\" x=\"130.5\" y=\"100.3325\">and queried as a part of a digital workflow. Defining the method and attributes</text><text fill=\"#000000\" font-family=\"sans-serif\" font-size=\"13\" lengthAdjust=\"spacing\" textLength=\"298\" x=\"130.5\" y=\"115.4653\">to perform a SysML v2 defined model analysis.</text></g><g id=\"elem_E6\"><path d=\"M30,75.7 L30,100.8328 L90,100.8328 L90,85.7 L80,75.7 L30,75.7 \" fill=\"#FEFFDD\" style=\"stroke:#181818;stroke-width:0.5;\"/><path d=\"M80,75.7 L80,85.7 L90,85.7 L80,75.7 \" fill=\"#FEFFDD\" style=\"stroke:#181818;stroke-width:1.0;\"/><a href=\"psysml:0e939cd9-0e2c-475a-9708-78db1a122503\" target=\"_top\" title=\"psysml:0e939cd9-0e2c-475a-9708-78db1a122503\" xlink:actuate=\"onRequest\" xlink:href=\"psysml:0e939cd9-0e2c-475a-9708-78db1a122503\" xlink:show=\"new\" xlink:title=\"psysml:0e939cd9-0e2c-475a-9708-78db1a122503\" xlink:type=\"simple\"><text fill=\"#0000FF\" font-family=\"sans-serif\" font-size=\"13\" lengthAdjust=\"spacing\" text-decoration=\"underline\" textLength=\"13\" x=\"36\" y=\"92.7669\">@</text></a><text fill=\"#000000\" font-family=\"sans-serif\" font-size=\"13\" lengthAdjust=\"spacing\" textLength=\"26\" x=\"49\" y=\"92.7669\">TBD</text></g><!--MD5=[f23a504beb17692cf1ec401fb4a5a911]\n",
       "link E2 to E1--><g id=\"link_E2_E1\"><a href=\"psysml:460adb4f-7617-4022-8d68-89b7a5e115d8\" target=\"_top\" title=\"psysml:460adb4f-7617-4022-8d68-89b7a5e115d8\" xlink:actuate=\"onRequest\" xlink:href=\"psysml:460adb4f-7617-4022-8d68-89b7a5e115d8\" xlink:show=\"new\" xlink:title=\"psysml:460adb4f-7617-4022-8d68-89b7a5e115d8\" xlink:type=\"simple\"><path d=\"M1304,108.87 C1340.83,124.13 1384.95,149.26 1408,187.54 C1443.88,247.12 1416.87,343.24 1416.02,346.23 \" fill=\"none\" id=\"E2-E1\" style=\"stroke:#181818;stroke-width:1.0;stroke-dasharray:7.0,7.0;\"/></a></g><!--MD5=[a717450b82c80b9240a525fa862496af]\n",
       "link E6 to E3--><g id=\"link_E6_E3\"><a href=\"psysml:0e939cd9-0e2c-475a-9708-78db1a122503\" target=\"_top\" title=\"psysml:0e939cd9-0e2c-475a-9708-78db1a122503\" xlink:actuate=\"onRequest\" xlink:href=\"psysml:0e939cd9-0e2c-475a-9708-78db1a122503\" xlink:show=\"new\" xlink:title=\"psysml:0e939cd9-0e2c-475a-9708-78db1a122503\" xlink:type=\"simple\"><path d=\"M74.28,101.14 C83.53,108.78 95.89,118.86 107,127.54 C131.96,147.03 158.31,167.26 184.55,187.19 \" fill=\"none\" id=\"E6-E3\" style=\"stroke:#181818;stroke-width:1.0;stroke-dasharray:7.0,7.0;\"/></a></g><!--MD5=[fb6fcde4e134d70d5d177bf9d055467b]\n",
       "@startuml\r\n",
       " \r\n",
       "package \"studyMapper_AFSIM_A\" as E1  [[psysml:a4953502-44c4-42d0-b0f9-fcf0112484e8 ]]  {\r\n",
       "comp def \"c_Simulator\" as E3 <<#ToolExecution>>[[psysml:f562f56d-0309-4561-a417-a5f9ab006444 ]] {\r\n",
       "##//references//##\r\n",
       "apiCall <U+003D> \"curl <U+002D>X POST $uri <U+002D>F <U+0027>file<U+003D>@$manifestFile<U+0027> <U+002D>F <U+0027>start<U+005F>file<U+003D>$startFile<U+0027>\"\r\n",
       "c1 <U+003D> \"missionModel<U+005F>simple::UAV<U+005F>Performance::UAV<U+005F>Speed::requiredSpeedConstarint\"\r\n",
       "c2 <U+003D> \"missionModel<U+005F>simple::UAV<U+005F>Performance::UAV<U+005F>Range::requiredRangeConstarint\"\r\n",
       "c3 <U+003D> \"missionModel<U+005F>simple::UAV<U+005F>Performance::UAV<U+005F>CargoCap::requiredCargoCapConstarint\"\r\n",
       "c_calculatedCargoCap <U+003D> \"missionModel<U+005F>simple::UAV<U+005F>Performance::UAV<U+005F>Range::measuredCargpCap\"\r\n",
       "c_calculatedRange <U+003D> \"missionModel<U+005F>simple::UAV<U+005F>Performance::UAV<U+005F>Range::measuredRange\"\r\n",
       "c_calculatedSpeed <U+003D> \"missionModel<U+005F>simple::UAV<U+005F>Performance::UAV<U+005F>Speed::measuredSpeed\"\r\n",
       "commitId <U+003D> \"9164a608<U+002D>d997<U+002D>4fed<U+002D>92a4<U+002D>fb213c46d938\"\r\n",
       "maifestFile <U+003D> \"<U+002F>mnt<U+002F>cdefs<U+002F>templates<U+002F>afsim<U+002F>afsim<U+005F>test.zip\"\r\n",
       "modelName <U+003D> \"1v1.afsim\"\r\n",
       "p_cargoCapacity <U+003D> \"missionModel<U+005F>simple::uav::cargoCap\"\r\n",
       "p_range <U+003D> \"missionModel<U+005F>simple::uav::range\"\r\n",
       "p_speed <U+003D> \"missionModel<U+005F>simple::uav::speed\"\r\n",
       "projectId <U+003D> \"5db467f8<U+002D>02bf<U+002D>43cd<U+002D>98f4<U+002D>4315f66ddb53\"\r\n",
       "resultsLoc <U+003D> \"<U+002F>mnt<U+002F>cdefs<U+002F>results\"\r\n",
       "startFile <U+003D> \"1v1.afsim\"\r\n",
       "}\r\n",
       "note as E2\r\n",
       "[[psysml:460adb4f-7617-4022-8d68-89b7a5e115d8 @]]AFSIM 2.2404.0\r\n",
       "SysML v2 Study Mapper Template Example\r\n",
       "end note \r\n",
       "note as E4\r\n",
       "\"\"              \"\"[[psysml:8cb820c5-64cb-47d0-8077-c2e855eae25d «metadata»]]\r\n",
       "==== \"\"             \"\"ToolExecution\r\n",
       "- -\r\n",
       "toolName =  \"afsim-2.2402.0-headless\"\r\n",
       "uri =  \"http://10.10.20.222:5000/afsim_execute\"\r\n",
       "end note\r\n",
       "note as E5\r\n",
       "[[psysml:0773076f-fec2-4838-b7c6-4d01f7cd7cd9 @]]This studyMapper represents an example\r\n",
       "of how to potentially define a study method in SysML v2. This method can be published\r\n",
       "and queried as a part of a digital workflow. Defining the method and attributes\r\n",
       "to perform a SysML v2 defined model analysis.\r\n",
       "end note \r\n",
       "note as E6\r\n",
       "[[psysml:0e939cd9-0e2c-475a-9708-78db1a122503 @]]TBD\r\n",
       "end note \r\n",
       "}\r\n",
       "E2 .. E1 [[psysml:460adb4f-7617-4022-8d68-89b7a5e115d8 ]] \r\n",
       "E5 .. E3 [[psysml:0773076f-fec2-4838-b7c6-4d01f7cd7cd9 ]] \r\n",
       "E6 .. E3 [[psysml:0e939cd9-0e2c-475a-9708-78db1a122503 ]] \r\n",
       "@enduml\r\n",
       "\n",
       "PlantUML version 1.2022.7(Mon Aug 22 17:01:30 GMT 2022)\n",
       "(EPL source distribution)\n",
       "Java Runtime: OpenJDK Runtime Environment\n",
       "JVM: OpenJDK 64-Bit Server VM\n",
       "Default Encoding: UTF-8\n",
       "Language: en\n",
       "Country: null\n",
       "--></g></svg>"
      ]
     },
     "execution_count": 3,
     "metadata": {},
     "output_type": "execute_result"
    }
   ],
   "source": [
    "%viz --view=\"Tree\" --style=\"PLANTUML\" studyMapper_AFSIM_A"
   ]
  },
  {
   "cell_type": "code",
   "execution_count": 7,
   "id": "d9647dcd-30cb-4849-8ac4-e6d9f49b7e94",
   "metadata": {},
   "outputs": [
    {
     "name": "stdout",
     "output_type": "stream",
     "text": [
      "API base path: http://sysmlapiserver:9000\n",
      "Processing..\n",
      "Posting Commit (214 elements)...ba7988ee-0885-4c87-8970-bf7a130fae30\n",
      "\n"
     ]
    },
    {
     "data": {
      "text/plain": [
       "Saved to Project studyMapper_AFSIM_A Thu Mar 21 20:25:44 GMT 2024 (e79e11db-4aa7-44f4-bff4-c90ea690a6bc)\n"
      ]
     },
     "execution_count": 7,
     "metadata": {},
     "output_type": "execute_result"
    }
   ],
   "source": [
    "%publish studyMapper_AFSIM_A"
   ]
  }
 ],
 "metadata": {
  "kernelspec": {
   "display_name": "SysML",
   "language": "sysml",
   "name": "sysml"
  },
  "language_info": {
   "codemirror_mode": "sysml",
   "file_extension": ".sysml",
   "mimetype": "text/x-sysml",
   "name": "SysML",
   "pygments_lexer": "java",
   "version": "1.0.0"
  }
 },
 "nbformat": 4,
 "nbformat_minor": 5
}
