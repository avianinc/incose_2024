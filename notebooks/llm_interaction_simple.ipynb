{
 "cells": [
  {
   "cell_type": "code",
   "execution_count": 15,
   "id": "23c8e4ee-6747-4cc6-9333-08bc4a4e09a5",
   "metadata": {},
   "outputs": [],
   "source": [
    "import requests\n",
    "import traceback\n",
    "import json\n",
    "import csv\n",
    "import re "
   ]
  },
  {
   "cell_type": "code",
   "execution_count": 16,
   "id": "820ebbd2-c8c9-40c8-b614-a417eed364f1",
   "metadata": {},
   "outputs": [
    {
     "data": {
      "text/plain": [
       "[['employee_name', 'age', 'city'],\n",
       " ['alice', '10.1', 'new york'],\n",
       " ['bob', '11', 'los angeles'],\n",
       " ['charlie', '12', 'chicago'],\n",
       " ['john', '14.5', 'soperton'],\n",
       " ['mike', '17.25', 'dallas']]"
      ]
     },
     "execution_count": 16,
     "metadata": {},
     "output_type": "execute_result"
    }
   ],
   "source": [
    "# Build a simple csv file\n",
    "# Data to be written to the CSV file\n",
    "rows = [\n",
    "    [\"employee_name\", \"age\", \"city\"],\n",
    "    [\"alice\", \"10.1\", \"new york\"],\n",
    "    [\"bob\", \"11\", \"los angeles\"],\n",
    "    [\"charlie\", \"12\", \"chicago\"],\n",
    "    [\"john\", \"14.5\", \"soperton\"],\n",
    "    [\"mike\", \"17.25\", \"dallas\"]\n",
    "]\n",
    "rows"
   ]
  },
  {
   "cell_type": "code",
   "execution_count": 17,
   "id": "c961290a-f052-4518-885c-e297caec619b",
   "metadata": {},
   "outputs": [],
   "source": [
    "# Write the data file\n",
    "file_path = '/home/ubuntu/ragllm2/data/employee_data.csv'\n",
    "\n",
    "# Open a file in write mode\n",
    "with open(file_path, 'w', newline='') as file:\n",
    "    writer = csv.writer(file)\n",
    "    \n",
    "    # Writing rows\n",
    "    for row in rows:\n",
    "        writer.writerow(row)"
   ]
  },
  {
   "cell_type": "code",
   "execution_count": 18,
   "id": "b30f8174-864b-4dbd-bad4-3fb3d1a55c97",
   "metadata": {},
   "outputs": [
    {
     "name": "stdout",
     "output_type": "stream",
     "text": [
      "Request successful... Context updated\n"
     ]
    }
   ],
   "source": [
    "# Now let reprocess the data files\n",
    "import requests\n",
    "\n",
    "# Define the URL to which the form submits data\n",
    "# Assuming 'base_url' is the domain where the form resides, you need to replace it with the actual domain\n",
    "base_url = 'http://localhost:5000'\n",
    "endpoint = '/reprocess'\n",
    "url = base_url + endpoint\n",
    "\n",
    "# Make the POST request to the endpoint\n",
    "response = requests.post(url)\n",
    "\n",
    "# Check if the request was successful\n",
    "if response.status_code == 200:\n",
    "    print(\"Request successful... Context updated\")\n",
    "else:\n",
    "    print(f\"Request failed. Status code: {response.status_code}\")\n"
   ]
  },
  {
   "cell_type": "code",
   "execution_count": 19,
   "id": "9bede616-4e3c-433b-8fb3-decda6010c40",
   "metadata": {},
   "outputs": [
    {
     "name": "stdout",
     "output_type": "stream",
     "text": [
      "Success: {\"qhid\":\"53b4e62c-75fd-41fe-8ffb-e08a39a57902\",\"response\":\"14.5\"}\n",
      "\n"
     ]
    }
   ],
   "source": [
    "# Now lets query the model\n",
    "# The URL to which the request is being sent\n",
    "url = 'http://localhost:5000/query'\n",
    "\n",
    "# Headers to be sent with the request\n",
    "headers = {\n",
    "    'Content-Type': 'application/json'\n",
    "}\n",
    "\n",
    "# Data to be sent in the request\n",
    "data = {\n",
    "    'query': 'What is Johns age?'\n",
    "}\n",
    "\n",
    "# Make the POST request\n",
    "response = requests.post(url, headers=headers, data=json.dumps(data))\n",
    "\n",
    "# Check the response\n",
    "if response.status_code == 200:\n",
    "    print(\"Success:\", response.text)\n",
    "else:\n",
    "    print(\"Error:\", response.status_code, response.text)"
   ]
  },
  {
   "cell_type": "code",
   "execution_count": 20,
   "id": "4e610160-e284-4b82-9fa5-bbe71057278d",
   "metadata": {},
   "outputs": [
    {
     "data": {
      "text/plain": [
       "'53b4e62c-75fd-41fe-8ffb-e08a39a57902'"
      ]
     },
     "execution_count": 20,
     "metadata": {},
     "output_type": "execute_result"
    }
   ],
   "source": [
    "# Get the query history id - qhid\n",
    "qhid = response.json()['qhid']\n",
    "qhid"
   ]
  },
  {
   "cell_type": "code",
   "execution_count": 21,
   "id": "929622f9-c70e-4e2f-82af-dd77a46d3237",
   "metadata": {},
   "outputs": [
    {
     "name": "stdout",
     "output_type": "stream",
     "text": [
      "Success: {\"qhid\":\"53b4e62c-75fd-41fe-8ffb-e08a39a57902\",\"response\":\" Soperton\"}\n",
      "\n"
     ]
    }
   ],
   "source": [
    "# Now lets cointinue the discussion using the quid\n",
    "# The URL to which the request is being sent\n",
    "url = 'http://localhost:5000/query'\n",
    "\n",
    "# Headers to be sent with the request\n",
    "headers = {\n",
    "    'Content-Type': 'application/json'\n",
    "}\n",
    "\n",
    "# Data to be sent in the request\n",
    "data = {\n",
    "    'query': 'What city does he live in?',\n",
    "    'qhid': qhid\n",
    "}\n",
    "\n",
    "# Make the POST request\n",
    "response = requests.post(url, headers=headers, data=json.dumps(data))\n",
    "\n",
    "# Check the response\n",
    "if response.status_code == 200:\n",
    "    print(\"Success:\", response.text)\n",
    "else:\n",
    "    print(\"Error:\", response.status_code, response.text)"
   ]
  },
  {
   "cell_type": "code",
   "execution_count": 22,
   "id": "d4516af1-cb74-4b82-8f4b-f3967a2ad357",
   "metadata": {},
   "outputs": [
    {
     "name": "stdout",
     "output_type": "stream",
     "text": [
      "Success: {\"qhid\":\"53b4e62c-75fd-41fe-8ffb-e08a39a57902\",\"response\":\"\\n```python\\nimport matplotlib.pyplot as plt\\nimport numpy as np\\nfrom scipy import stats\\n\\n# Data = [{'name': 'John', 'age': 14.5, 'city': 'Soperton'},\\n          {'name': 'Bob', 'age': 11, 'city': 'Los Angeles'},\\n          {'name: 'Charlie', 'age': 12, 'city': 'Chicago'},\\n          {'name': 'Alice', 'age': 10.1, 'city': 'New York'}]\\n\\n# Calculate_Age = [stats.moment(Data[i]['age'])[0] for i in range(len(Data))]\\n\\n Age_Histogram = np.histogram(Calculate_Age, bins=np.arange(8-12), density=True)\\n \\nplt.figure(figsize=(15,6))\\nplt.bar(*Age_Histogram[0], heights=Age_Histogram[1])\\nplt.title('Employee Age Distribution')\\nplt.xlabel('Age Range')\\nplt.y\"}\n",
      "\n"
     ]
    }
   ],
   "source": [
    "# Now lets plot some data\n",
    "# The URL to which the request is being sent\n",
    "url = 'http://localhost:5000/query'\n",
    "\n",
    "# Headers to be sent with the request\n",
    "headers = {\n",
    "    'Content-Type': 'application/json'\n",
    "}\n",
    "\n",
    "# Data to be sent in the request\n",
    "data = {\n",
    "    'query': 'Generate python code to plot a historgram of the employees by age.',\n",
    "    'qhid': qhid\n",
    "}\n",
    "\n",
    "# Make the POST request\n",
    "response = requests.post(url, headers=headers, data=json.dumps(data))\n",
    "\n",
    "# Check the response\n",
    "if response.status_code == 200:\n",
    "    print(\"Success:\", response.text)\n",
    "else:\n",
    "    print(\"Error:\", response.status_code, response.text)"
   ]
  },
  {
   "cell_type": "code",
   "execution_count": 23,
   "id": "6816c69a-3194-4f1e-bc58-2ece621a829a",
   "metadata": {},
   "outputs": [
    {
     "name": "stdout",
     "output_type": "stream",
     "text": [
      "import matplotlib.pyplot as plt\n",
      "import numpy as np\n",
      "from scipy import stats\n",
      "\n",
      "# Data = [{'name': 'John', 'age': 14.5, 'city': 'Soperton'},\n",
      "          {'name': 'Bob', 'age': 11, 'city': 'Los Angeles'},\n",
      "          {'name: 'Charlie', 'age': 12, 'city': 'Chicago'},\n",
      "          {'name': 'Alice', 'age': 10.1, 'city': 'New York'}]\n",
      "\n",
      "# Calculate_Age = [stats.moment(Data[i]['age'])[0] for i in range(len(Data))]\n",
      "\n",
      " Age_Histogram = np.histogram(Calculate_Age, bins=np.arange(8-12), density=True)\n",
      " \n",
      "plt.figure(figsize=(15,6))\n",
      "plt.bar(*Age_Histogram[0], heights=Age_Histogram[1])\n",
      "plt.title('Employee Age Distribution')\n",
      "plt.xlabel('Age Range')\n",
      "plt.y\n"
     ]
    }
   ],
   "source": [
    "# Convert to json data\n",
    "response_data = json.loads(response.text)\n",
    "\n",
    "# Extracting the code string\n",
    "code_string = response_data['response'].split(\"```python\\n\", 1)[1].rsplit(\"\\n```\", 1)[0]\n",
    "\n",
    "# Function to correct the code\n",
    "def correct_code(code):\n",
    "    corrected_lines = []\n",
    "    for line in code.split('\\n'):\n",
    "        # Detect lines that might be comments but are not marked as such\n",
    "        if re.match(r\"^[A-Z].*\", line) and not re.match(r\"^(import |from |class |def |#)\", line):\n",
    "            line = \"# \" + line\n",
    "        corrected_lines.append(line)\n",
    "    \n",
    "    return '\\n'.join(corrected_lines)\n",
    "\n",
    "# Apply the correction\n",
    "corrected_code = correct_code(code_string)\n",
    "print(corrected_code)"
   ]
  },
  {
   "cell_type": "code",
   "execution_count": 26,
   "id": "17bda5cd-dc25-48cb-85fb-980c463fe32d",
   "metadata": {},
   "outputs": [],
   "source": [
    "corrected_code = \"\"\"import matplotlib.pyplot as plt\n",
    "import numpy as np\n",
    "from scipy import stats\n",
    "\n",
    "Data = [{'name': 'John', 'age': 14.5, 'city': 'Soperton'},\n",
    "          {'name': 'Bob', 'age': 11, 'city': 'Los Angeles'},\n",
    "          {'name': 'Charlie', 'age': 12, 'city': 'Chicago'},\n",
    "          {'name': 'Alice', 'age': 10.1, 'city': 'New York'}]\n",
    "\n",
    "Calculate_Age = [stats.moment(Data[i]['age'])[0] for i in range(len(Data))]\n",
    "\n",
    "Age_Histogram = np.histogram(Calculate_Age, bins=np.arange(8-12), density=True)\n",
    " \n",
    "plt.figure(figsize=(15,6))\n",
    "plt.bar(*Age_Histogram[0], heights=Age_Histogram[1])\n",
    "plt.title('Employee Age Distribution')\n",
    "plt.xlabel('Age Range')\n",
    "plt.y\"\"\""
   ]
  },
  {
   "cell_type": "code",
   "execution_count": 27,
   "id": "a6e0bd53-a923-4def-9bb4-d8f81411a35d",
   "metadata": {},
   "outputs": [
    {
     "ename": "IndexError",
     "evalue": "invalid index to scalar variable.",
     "output_type": "error",
     "traceback": [
      "\u001b[0;31m---------------------------------------------------------------------------\u001b[0m",
      "\u001b[0;31mIndexError\u001b[0m                                Traceback (most recent call last)",
      "Cell \u001b[0;32mIn[27], line 1\u001b[0m\n\u001b[0;32m----> 1\u001b[0m \u001b[43mexec\u001b[49m\u001b[43m(\u001b[49m\u001b[43mcorrected_code\u001b[49m\u001b[43m)\u001b[49m\n",
      "File \u001b[0;32m<string>:10\u001b[0m\n",
      "File \u001b[0;32m<string>:10\u001b[0m, in \u001b[0;36m<listcomp>\u001b[0;34m(.0)\u001b[0m\n",
      "\u001b[0;31mIndexError\u001b[0m: invalid index to scalar variable."
     ]
    }
   ],
   "source": [
    "exec(corrected_code)"
   ]
  },
  {
   "cell_type": "code",
   "execution_count": null,
   "id": "62a6dcb2-962b-47e5-8389-85e511dddefa",
   "metadata": {},
   "outputs": [],
   "source": []
  }
 ],
 "metadata": {
  "kernelspec": {
   "display_name": "Python 3 (ipykernel)",
   "language": "python",
   "name": "python3"
  },
  "language_info": {
   "codemirror_mode": {
    "name": "ipython",
    "version": 3
   },
   "file_extension": ".py",
   "mimetype": "text/x-python",
   "name": "python",
   "nbconvert_exporter": "python",
   "pygments_lexer": "ipython3",
   "version": "3.10.13"
  }
 },
 "nbformat": 4,
 "nbformat_minor": 5
}
