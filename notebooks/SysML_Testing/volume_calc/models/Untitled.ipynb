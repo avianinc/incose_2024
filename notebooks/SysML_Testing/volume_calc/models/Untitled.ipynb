{
 "cells": [
  {
   "cell_type": "code",
   "execution_count": null,
   "id": "c092e6db-7727-4427-9ebc-3d1ead0cfef2",
   "metadata": {
    "tags": []
   },
   "outputs": [],
   "source": [
    "// Definition of a block\n",
    "    part def Block {\n",
    "        attribute length: Length:Real;\n",
    "        attribute width: Width:Real;\n",
    "        attribute height: Height:Real;\n",
    "        attribute volume: Volume:Real;\n",
    "        \n",
    "        // Calulcation definition is containted by the block definition\n",
    "        calc def CalculatedBlockVolume { \n",
    "            in l: Length; \n",
    "            in w: Width; \n",
    "            in h: Height;\n",
    "            return : Volume = (l * w * (h+5)); // little trick here :)\n",
    "            }\n",
    "        }\n",
    "    \n",
    "    // Usage of a block\n",
    "    part block_1: Block {\n",
    "        i_length::> length = 2[m];\n",
    "        i_width::> width = 2[m];\n",
    "        i_height::> height = 2[m];\n",
    "        c_volume =  0; // Returned calculated volume from analysis template\n",
    "        m_volume::> volume = calculatedBlock_1Volume.volume; // Modeled Volume\n",
    "        \n",
    "        calc calculatedBlock_1Volume: CalculatedBlockVolume {\n",
    "                in l = i_length;\n",
    "                in w = i_width;\n",
    "                in h = i_height;\n",
    "                return volume;\n",
    "            }\n",
    "            \n",
    "        }"
   ]
  },
  {
   "cell_type": "code",
   "execution_count": null,
   "id": "5c88967e-05d6-4007-a150-f681068ebf41",
   "metadata": {},
   "outputs": [],
   "source": []
  }
 ],
 "metadata": {
  "kernelspec": {
   "display_name": "SysML",
   "language": "sysml",
   "name": "sysml"
  },
  "language_info": {
   "codemirror_mode": "sysml",
   "file_extension": ".sysml",
   "mimetype": "text/x-sysml",
   "name": "SysML",
   "pygments_lexer": "java",
   "version": "1.0.0"
  }
 },
 "nbformat": 4,
 "nbformat_minor": 5
}
