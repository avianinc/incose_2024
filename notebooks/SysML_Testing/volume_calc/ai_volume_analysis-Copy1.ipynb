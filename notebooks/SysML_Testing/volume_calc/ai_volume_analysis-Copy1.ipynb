{
 "cells": [
  {
   "cell_type": "markdown",
   "id": "204b997a-5aef-4381-a1ce-efad3f883800",
   "metadata": {
    "kernel": "SoS"
   },
   "source": [
    "# Create a more complex ai assistant \n",
    "- This example we create an ai assistant and ask it to evaluate some requirements."
   ]
  },
  {
   "cell_type": "code",
   "execution_count": 1,
   "id": "7085c958-0eec-4cc1-8d82-f6c11719edde",
   "metadata": {
    "kernel": "Python3",
    "tags": []
   },
   "outputs": [],
   "source": [
    "from openai import OpenAI\n",
    "import os"
   ]
  },
  {
   "cell_type": "code",
   "execution_count": 2,
   "id": "47dd4275-57ed-4c19-a8d4-9a168f07b18e",
   "metadata": {
    "kernel": "Python3",
    "tags": []
   },
   "outputs": [],
   "source": [
    "# Build veriables\n",
    "API_KEY=os.environ.get('OPENAI_API_KEY')\n",
    "ASSISTANT_NAME=\"SysML_Req_Eval\"\n",
    "INSTRUCTION_TEXT = \"\"\"You are a helpful assistant. Given a set of sysml model files, you understand the paramters, calculations, and requirments and evaluate the requirments.\"\"\"\n",
    "CONTENT_TEXT = \"Please evaluate the model requirments and summarize the requirments evaluation results in a table with the colums ID, Subject, Description, Actual Value, Calculated Value, Result (pass.fail)\""
   ]
  },
  {
   "cell_type": "code",
   "execution_count": 3,
   "id": "a4990100-4fdd-4894-a234-fdba2efb5538",
   "metadata": {
    "kernel": "Python3",
    "tags": []
   },
   "outputs": [
    {
     "data": {
      "text/plain": [
       "'/usr/src/app/notebooks/SysML_Testing/volume_calc//models/block_volume.sysml'"
      ]
     },
     "execution_count": 3,
     "metadata": {},
     "output_type": "execute_result"
    }
   ],
   "source": [
    "# Set up directories\n",
    "BASE_DIR = os.getcwd()\n",
    "RAG_FILES_DIR = \"models\"\n",
    "WORKING_DIR = \"\"\n",
    "MODEL_NAME = \"block_volume.sysml\"\n",
    "FILE_PATH = f'{BASE_DIR}/{WORKING_DIR}/{RAG_FILES_DIR}/{MODEL_NAME}' \n",
    "FILE_PATH"
   ]
  },
  {
   "cell_type": "code",
   "execution_count": 4,
   "id": "1966b7e1-626a-4e2a-94a7-d44b00c20a36",
   "metadata": {
    "kernel": "Python3",
    "tags": []
   },
   "outputs": [
    {
     "name": "stdout",
     "output_type": "stream",
     "text": [
      "package example {\n",
      "    import ScalarValues::*;\n",
      "    import SI::*;\n",
      "    \n",
      "    doc /* LLM Integration example: \n",
      "    Here we create a block \n",
      "    1. with dimenstions (length, width, and height) and Volume.\n",
      "    2. We create and define the calculation for the volume.\n",
      "    3. We define the blocks part usage of m_volume to be the returned calculated volume.\n",
      "    \n",
      "    To integrate with an LLM lets perform the following steps:\n",
      "    A. Create an exmaple Scilab API\n",
      "    B. Create a Analysis Template which describes how to use the API\n",
      "    C. Build a LLM Assitant and ask the assistance to reutrn code to perform the analysis using the models and the API. \n",
      "    */\n",
      "    \n",
      "    attribute def Length;\n",
      "    attribute def Width;\n",
      "    attribute def Height;\n",
      "    attribute def Volume;\n",
      "    \n",
      "    // Definition of a block\n",
      "    part def Block {\n",
      "        attribute length: Length:Real;\n",
      "        attribute width: Width:Real;\n",
      "        attribute height: Height:Real;\n",
      "        attribute volume: Volume:Real;\n",
      "        \n",
      "        // Calulcation definition is containted by the block definition\n",
      "        calc def CalculatedBlockVolume { \n",
      "            in l: Length; \n",
      "            in w: Width; \n",
      "            in h: Height;\n",
      "            return : Volume = (l * w * (h+5)); // little trick here :)\n",
      "            }\n",
      "        }\n",
      "    \n",
      "    // Usage of a block\n",
      "    part block_1: Block {\n",
      "        i_length::> length = 2[m];\n",
      "        i_width::> width = 2[m];\n",
      "        i_height::> height = 2[m];\n",
      "        c_volume =  0; // Returned calculated volume from analysis template\n",
      "        m_volume::> volume = calculatedBlock_1Volume.volume; // Modeled Volume\n",
      "        \n",
      "        calc calculatedBlock_1Volume: CalculatedBlockVolume {\n",
      "                in l = i_length;\n",
      "                in w = i_width;\n",
      "                in h = i_height;\n",
      "                return volume;\n",
      "            }\n",
      "            \n",
      "        }\n",
      "    \n",
      "    requirement def MaximumVolumnRequirement {\n",
      "        doc /* The maximum volume allowable */\n",
      "        \n",
      "        attribute volumeCalculated: Volume;\n",
      "        attribute volumeRequired: Volume;\n",
      "        require constraint {volumeCalculated <= volumeRequired}\n",
      "    }\n",
      "    \n",
      "    requirement def MaximumLengthRequirement {\n",
      "        doc /* The maximum length allowable */\n",
      "        \n",
      "        attribute lengthCalculated: Length;\n",
      "        attribute lengthRequired: Length;\n",
      "        require constraint {lengthCalculated <= lengthRequired}\n",
      "    }\n",
      "    \n",
      "    requirement <'1'> maxBlockVolume : MaximumVolumnRequirement {\n",
      "        subject block_1: Block;\n",
      "        attribute :>> volumeRequired = 5.5[m^3];\n",
      "        require constraint requiredMaximumVolume { volumeCalculated <= volumeRequired }\n",
      "        }\n",
      "        \n",
      "    requirement <'2'> maxBlockLength : MaximumLengthRequirement {\n",
      "        subject block_1: Block;\n",
      "        attribute :>> lengthRequired = 2.08[m];\n",
      "        require constraint requiredMaximumLength { block_1.length <= lengthRequired }\n",
      "        }\n",
      "    \n",
      "    comment about block_1 /* How do we manage the modeled and calculated (or measured) volume results?\n",
      "        - Save results back to the model 'c_volume'?\n",
      "        - Save results and metadata to a central db?\n",
      "        ___- Need Numbering Scehma and FQNs. \n",
      "        - No save and rerun calcs for tabluarization?\n",
      "    */\n",
      "}\n"
     ]
    }
   ],
   "source": [
    "%put file_content\n",
    "# Python kernel cell\n",
    "# Read the file and store its content in a variable\n",
    "file_path = FILE_PATH\n",
    "with open(file_path, 'r') as file:\n",
    "    file_content = file.read()\n",
    "    print(file_content)"
   ]
  },
  {
   "cell_type": "code",
   "execution_count": 5,
   "id": "1a3ea72e-2b72-4494-8f49-5a872fe2b6d2",
   "metadata": {
    "kernel": "Python3",
    "tags": []
   },
   "outputs": [
    {
     "data": {
      "text/plain": [
       "<openai.OpenAI at 0x7f39d25c8430>"
      ]
     },
     "execution_count": 5,
     "metadata": {},
     "output_type": "execute_result"
    }
   ],
   "source": [
    "client = OpenAI(api_key=API_KEY,)\n",
    "client"
   ]
  },
  {
   "cell_type": "code",
   "execution_count": 6,
   "id": "0363a370-e555-42a6-bf37-730d0a31a4a8",
   "metadata": {
    "kernel": "Python3",
    "tags": []
   },
   "outputs": [
    {
     "name": "stdout",
     "output_type": "stream",
     "text": [
      "['file-KPzb3U5WEhLEykNtaQlYIsjO']\n"
     ]
    }
   ],
   "source": [
    "file_ids = []\n",
    "# Assuming client.files.create correctly uploads the files and returns their file objects\n",
    "model = client.files.create(file=open(FILE_PATH, \"rb\"), purpose='assistants')\n",
    "file_ids.append(model.id)\n",
    "print(file_ids)"
   ]
  },
  {
   "cell_type": "code",
   "execution_count": 7,
   "id": "46a1ec7f-f838-4307-9547-cc78eda33bd2",
   "metadata": {
    "kernel": "Python3",
    "tags": []
   },
   "outputs": [
    {
     "data": {
      "text/plain": [
       "[{'type': 'retrieval'}]"
      ]
     },
     "execution_count": 7,
     "metadata": {},
     "output_type": "execute_result"
    }
   ],
   "source": [
    "tools = [{\"type\": \"retrieval\"}]\n",
    "tools"
   ]
  },
  {
   "cell_type": "code",
   "execution_count": 8,
   "id": "234db59e-e69c-4f22-964e-892d79db469c",
   "metadata": {
    "kernel": "Python3",
    "tags": []
   },
   "outputs": [
    {
     "name": "stdout",
     "output_type": "stream",
     "text": [
      "asst_hgz5RLSoHAI2GfxYseGeBXqp\n"
     ]
    }
   ],
   "source": [
    "# Pass file_ids directly to the assistant creation call\n",
    "# Note we cannot set temperature or top_p for python right now\n",
    "assistant = client.beta.assistants.create(\n",
    "    name=ASSISTANT_NAME,\n",
    "    instructions=INSTRUCTION_TEXT,\n",
    "    model=\"gpt-4-1106-preview\",\n",
    "    tools=tools,  # Ensure tools is defined earlier or include the necessary tools here\n",
    "    file_ids=file_ids  # Use the list directly without wrapping it in another list\n",
    "\n",
    ")\n",
    "\n",
    "assistant_id = assistant.id\n",
    "print(assistant_id)"
   ]
  },
  {
   "cell_type": "code",
   "execution_count": 9,
   "id": "3efa823e-e305-4a34-b2c2-e8d4bf6377c2",
   "metadata": {
    "kernel": "Python3",
    "tags": []
   },
   "outputs": [
    {
     "data": {
      "text/plain": [
       "'thread_dqrt9mNVue4hkmE6HUQlr10n'"
      ]
     },
     "execution_count": 9,
     "metadata": {},
     "output_type": "execute_result"
    }
   ],
   "source": [
    "thread = client.beta.threads.create(\n",
    "  messages=[\n",
    "    {\n",
    "      \"role\": \"user\",\n",
    "      \"content\": CONTENT_TEXT,\n",
    "      \"file_ids\": file_ids\n",
    "    }\n",
    "  ]\n",
    ")\n",
    "\n",
    "thread_id = thread.id\n",
    "thread_id"
   ]
  },
  {
   "cell_type": "code",
   "execution_count": 10,
   "id": "03359b7a-1ded-4544-8b43-b3eb7c882ff2",
   "metadata": {
    "kernel": "Python3",
    "tags": []
   },
   "outputs": [
    {
     "data": {
      "text/plain": [
       "'run_gaVO05RbKd1KCwuZPNQ0LZuS'"
      ]
     },
     "execution_count": 10,
     "metadata": {},
     "output_type": "execute_result"
    }
   ],
   "source": [
    "# Create the thread\n",
    "run = client.beta.threads.runs.create(\n",
    "  thread_id=thread_id,\n",
    "  assistant_id=assistant_id\n",
    ")\n",
    "\n",
    "run_id = run.id\n",
    "run_id"
   ]
  },
  {
   "cell_type": "code",
   "execution_count": 11,
   "id": "df76f5b9-9570-4037-91ad-cb22eede0394",
   "metadata": {
    "kernel": "Python3",
    "tags": []
   },
   "outputs": [
    {
     "name": "stdout",
     "output_type": "stream",
     "text": [
      "Current status: in_progress\n",
      "Current status: in_progress\n",
      "Current status: in_progress\n",
      "Current status: in_progress\n",
      "Current status: in_progress\n",
      "Current status: in_progress\n",
      "Current status: in_progress\n",
      "Current status: in_progress\n",
      "Current status: in_progress\n",
      "Current status: in_progress\n",
      "Current status: in_progress\n",
      "Current status: in_progress\n",
      "Current status: in_progress\n",
      "Current status: in_progress\n",
      "Current status: in_progress\n",
      "Current status: in_progress\n",
      "Current status: completed\n",
      "Run is complete.\n"
     ]
    }
   ],
   "source": [
    "import time\n",
    "\n",
    "# Start an infinite loop to continuously check the status\n",
    "while True:\n",
    "    # Retrieve the current status of the run\n",
    "    run_status_response = client.beta.threads.runs.retrieve(thread_id=thread_id, run_id=run_id)\n",
    "    \n",
    "    # Check if the response has the attribute or key for status; adjust based on the response structure\n",
    "    if hasattr(run_status_response, 'status'):  # If the response is an object with attributes\n",
    "        current_status = run_status_response.status\n",
    "    elif 'status' in run_status_response:  # If the response is a dictionary\n",
    "        current_status = run_status_response['status']\n",
    "    else:\n",
    "        print(\"Unable to find status in the response.\")\n",
    "        break\n",
    "    \n",
    "    print(f\"Current status: {current_status}\")\n",
    "    \n",
    "    # Break the loop if the run status is 'complete' or adjust according to the correct completion status\n",
    "    if current_status == 'completed':\n",
    "        print(\"Run is complete.\")\n",
    "        break\n",
    "    elif current_status == 'failed':\n",
    "        print(\"Run failed.\")\n",
    "        break\n",
    "    \n",
    "    # Sleep for a bit before checking the status again to avoid overwhelming the server\n",
    "    time.sleep(2)"
   ]
  },
  {
   "cell_type": "code",
   "execution_count": 12,
   "id": "d88a9125-5d8d-47e0-b328-abac0bcf61cb",
   "metadata": {
    "kernel": "Python3",
    "tags": []
   },
   "outputs": [
    {
     "data": {
      "text/plain": [
       "SyncCursorPage[Message](data=[Message(id='msg_wHEOHKezwZ6RNcC81Qi7Jbo0', assistant_id='asst_hgz5RLSoHAI2GfxYseGeBXqp', completed_at=None, content=[TextContentBlock(text=Text(annotations=[], value=\"Based on the SysML model file information provided, I will now summarize the requirements evaluation results in the requested table format, which includes columns for ID, Subject, Description, Actual Value, Calculated Value, and Result (pass/fail). We will calculate this based on the given dimensions for `block_1` and the constraints provided in the requirements definitions.\\n\\nFirst, we need to calculate the volume using the formula provided in the `CalculatedBlockVolume` calculation, which indicates that the block's volume is calculated by multiplying the length (l), width (w), and height (h+5[m]) attributes of `block_1`.\\n\\nGiven Dimensions for `block_1`:\\n- Length: 2[m]\\n- Width: 2[m]\\n- Height: 2[m]\\n\\nUsing the formula, the Calculated Volume is \\\\(2 \\\\times 2 \\\\times (2 + 5) = 28 [m^3]\\\\).\\n\\nNow let us evaluate against the defined requirements:\\n\\n1. `maxBlockVolume` (Maximum Volume Requirement)\\n   - Subject: `block_1`\\n   - Actual Value: \\\\(5.5 [m^3]\\\\)\\n   - Calculated Value: \\\\(28 [m^3]\\\\)\\n   - Result: Fail (because \\\\(28 [m^3] > 5.5 [m^3]\\\\))\\n\\n2. `maxBlockLength` (Maximum Length Requirement)\\n   - Subject: `block_1`\\n   - Actual Value: \\\\(2.08 [m]\\\\)\\n   - Calculated Value: \\\\(2 [m]\\\\)\\n   - Result: Pass (because \\\\(2 [m] \\\\leq 2.08 [m]\\\\))\\n\\nHere is the summary table:\\n\\n| ID  | Subject  | Description                | Actual Value | Calculated Value | Result  |\\n|-----|----------|----------------------------|--------------|------------------|---------|\\n| '1' | block_1  | Maximum Volume Requirement | 5.5[m^3]     | 28[m^3]          | Fail    |\\n| '2' | block_1  | Maximum Length Requirement | 2.08[m]      | 2[m]             | Pass    |\\n\\nThe model requirements evaluation reveals that while the system meets the maximum length requirement, it fails to meet the maximum volume requirement as calculated based on the model definitions.\"), type='text')], created_at=1712166466, file_ids=[], incomplete_at=None, incomplete_details=None, metadata={}, object='thread.message', role='assistant', run_id='run_gaVO05RbKd1KCwuZPNQ0LZuS', status=None, thread_id='thread_dqrt9mNVue4hkmE6HUQlr10n'), Message(id='msg_9e5tUu3x6I9iCGa3Nb7qZH81', assistant_id=None, completed_at=None, content=[TextContentBlock(text=Text(annotations=[], value='Please evaluate the model requirments and summarize the requirments evaluation results in a table with the colums ID, Subject, Description, Actual Value, Calculated Value, Result (pass.fail)'), type='text')], created_at=1712166461, file_ids=['file-KPzb3U5WEhLEykNtaQlYIsjO'], incomplete_at=None, incomplete_details=None, metadata={}, object='thread.message', role='user', run_id=None, status=None, thread_id='thread_dqrt9mNVue4hkmE6HUQlr10n')], object='list', first_id='msg_wHEOHKezwZ6RNcC81Qi7Jbo0', last_id='msg_9e5tUu3x6I9iCGa3Nb7qZH81', has_more=False)"
      ]
     },
     "execution_count": 12,
     "metadata": {},
     "output_type": "execute_result"
    }
   ],
   "source": [
    "# Retrieve the list of messages for the specified thread_id\n",
    "thread_messages = client.beta.threads.messages.list(thread_id=thread_id)\n",
    "thread_messages"
   ]
  },
  {
   "cell_type": "code",
   "execution_count": 13,
   "id": "b33e8fae-a583-40da-bdf9-a567e13dcac4",
   "metadata": {
    "kernel": "Python3",
    "tags": []
   },
   "outputs": [
    {
     "name": "stdout",
     "output_type": "stream",
     "text": [
      "\n",
      "Role: assistant\n",
      "Content: Based on the SysML model file information provided, I will now summarize the requirements evaluation results in the requested table format, which includes columns for ID, Subject, Description, Actual Value, Calculated Value, and Result (pass/fail). We will calculate this based on the given dimensions for `block_1` and the constraints provided in the requirements definitions.\n",
      "\n",
      "First, we need to calculate the volume using the formula provided in the `CalculatedBlockVolume` calculation, which indicates that the block's volume is calculated by multiplying the length (l), width (w), and height (h+5[m]) attributes of `block_1`.\n",
      "\n",
      "Given Dimensions for `block_1`:\n",
      "- Length: 2[m]\n",
      "- Width: 2[m]\n",
      "- Height: 2[m]\n",
      "\n",
      "Using the formula, the Calculated Volume is \\(2 \\times 2 \\times (2 + 5) = 28 [m^3]\\).\n",
      "\n",
      "Now let us evaluate against the defined requirements:\n",
      "\n",
      "1. `maxBlockVolume` (Maximum Volume Requirement)\n",
      "   - Subject: `block_1`\n",
      "   - Actual Value: \\(5.5 [m^3]\\)\n",
      "   - Calculated Value: \\(28 [m^3]\\)\n",
      "   - Result: Fail (because \\(28 [m^3] > 5.5 [m^3]\\))\n",
      "\n",
      "2. `maxBlockLength` (Maximum Length Requirement)\n",
      "   - Subject: `block_1`\n",
      "   - Actual Value: \\(2.08 [m]\\)\n",
      "   - Calculated Value: \\(2 [m]\\)\n",
      "   - Result: Pass (because \\(2 [m] \\leq 2.08 [m]\\))\n",
      "\n",
      "Here is the summary table:\n",
      "\n",
      "| ID  | Subject  | Description                | Actual Value | Calculated Value | Result  |\n",
      "|-----|----------|----------------------------|--------------|------------------|---------|\n",
      "| '1' | block_1  | Maximum Volume Requirement | 5.5[m^3]     | 28[m^3]          | Fail    |\n",
      "| '2' | block_1  | Maximum Length Requirement | 2.08[m]      | 2[m]             | Pass    |\n",
      "\n",
      "The model requirements evaluation reveals that while the system meets the maximum length requirement, it fails to meet the maximum volume requirement as calculated based on the model definitions.\n",
      "No attached files.\n",
      "\n",
      "--------------------------------------------------\n",
      "\n",
      "Role: user\n",
      "Content: Please evaluate the model requirments and summarize the requirments evaluation results in a table with the colums ID, Subject, Description, Actual Value, Calculated Value, Result (pass.fail)\n",
      "Attached Files:\n",
      " - file-KPzb3U5WEhLEykNtaQlYIsjO\n",
      "\n",
      "--------------------------------------------------\n"
     ]
    }
   ],
   "source": [
    "# Function to handle and print each content block in a message\n",
    "def print_content_blocks(content_blocks):\n",
    "    for block in content_blocks:\n",
    "        # Assuming 'type' and 'text' are attributes of the block object\n",
    "        if hasattr(block, 'type') and block.type == 'text':\n",
    "            # Further assuming 'value' can be accessed directly from the 'text' attribute\n",
    "            if hasattr(block.text, 'value'):\n",
    "                text_value = block.text.value\n",
    "                print(f\"Content: {text_value}\")\n",
    "            else:\n",
    "                print(\"Content: [Text block without accessible value]\")\n",
    "        else:\n",
    "            # Handle other types of content blocks or print a placeholder\n",
    "            print(\"Content: [Non-text content block]\")\n",
    "\n",
    "# Sample code to iterate through messages and print their content\n",
    "for message in thread_messages.data:\n",
    "    print(f\"\\nRole: {message.role}\")\n",
    "    \n",
    "    # If 'content' is expected to be a list or similar iterable of content blocks\n",
    "    if hasattr(message, 'content') and isinstance(message.content, list):\n",
    "        print_content_blocks(message.content)\n",
    "    else:\n",
    "        # If 'content' is not a list, try to print it directly (or handle it as needed)\n",
    "        print(\"Content: [Message content is not a list]\")\n",
    "    \n",
    "    # Check for attached files\n",
    "    if hasattr(message, 'file_ids') and message.file_ids:\n",
    "        print(\"Attached Files:\")\n",
    "        for file_id in message.file_ids:\n",
    "            print(f\" - {file_id}\")\n",
    "    else:\n",
    "        print(\"No attached files.\")\n",
    "\n",
    "    print(\"\\n\" + \"-\"*50)\n"
   ]
  },
  {
   "cell_type": "code",
   "execution_count": 14,
   "id": "6058a724-f2b3-42af-a619-abb8da67265a",
   "metadata": {
    "kernel": "Python3",
    "tags": []
   },
   "outputs": [],
   "source": [
    "import re\n",
    "\n",
    "# Function to extract and print Python code blocks from the raw message data\n",
    "def extract_python_code(raw_messages):\n",
    "    python_code_blocks = []\n",
    "    \n",
    "    # Regular expression pattern to match Python code blocks\n",
    "    python_code_pattern = re.compile(r\"```python\\n(.*?)```\", re.DOTALL)\n",
    "    \n",
    "    for message in raw_messages:\n",
    "        for content_block in message.content:\n",
    "            # Assuming each content_block has a 'text' object with a 'value' attribute\n",
    "            text_content = content_block.text.value\n",
    "            \n",
    "            # Search for Python code blocks within the text content\n",
    "            matches = python_code_pattern.findall(text_content)\n",
    "            python_code_blocks.extend(matches)\n",
    "    \n",
    "    return python_code_blocks\n",
    "\n",
    "# Assuming 'thread_messages.data' is a list of messages as described in your raw thread message structure\n",
    "raw_messages = thread_messages.data  # This should be the actual data structure containing your messages\n",
    "\n",
    "# Extract Python code blocks\n",
    "extracted_python_code = extract_python_code(raw_messages)\n",
    "\n",
    "# Print extracted Python code blocks\n",
    "for index, code in enumerate(extracted_python_code, start=1):\n",
    "    print(f\"Python Code Block {index}:\\n{code}\\n\\n---\\n\")\n"
   ]
  },
  {
   "cell_type": "code",
   "execution_count": 15,
   "id": "a7aa7be4-51e4-4f24-bfd7-1ec5fca0b054",
   "metadata": {
    "kernel": "Python3",
    "tags": []
   },
   "outputs": [
    {
     "data": {
      "text/plain": [
       "AssistantDeleted(id='asst_hgz5RLSoHAI2GfxYseGeBXqp', deleted=True, object='assistant.deleted')"
      ]
     },
     "execution_count": 15,
     "metadata": {},
     "output_type": "execute_result"
    }
   ],
   "source": [
    "# Lets clean up the assistnat and the files\n",
    "\n",
    "# Delete the files first\n",
    "client.files.delete(file_ids[0])\n",
    "\n",
    "# Then delete the assistant\n",
    "client.beta.assistants.delete(assistant_id)"
   ]
  }
 ],
 "metadata": {
  "kernelspec": {
   "display_name": "SoS",
   "language": "sos",
   "name": "sos"
  },
  "language_info": {
   "codemirror_mode": "sos",
   "file_extension": ".sos",
   "mimetype": "text/x-sos",
   "name": "sos",
   "nbconvert_exporter": "sos_notebook.converter.SoS_Exporter",
   "pygments_lexer": "sos"
  },
  "sos": {
   "kernels": [
    [
     "Python3",
     "python3",
     "Python3",
     "#FFD91A",
     {
      "name": "ipython",
      "version": 3
     }
    ],
    [
     "SysML",
     "sysml",
     "sysml",
     "",
     "sysml"
    ]
   ],
   "version": "0.24.3"
  }
 },
 "nbformat": 4,
 "nbformat_minor": 5
}
