{
 "cells": [
  {
   "cell_type": "code",
   "execution_count": 17,
   "id": "9e0e3a6a-58eb-496b-81bf-00991b8a130f",
   "metadata": {
    "tags": []
   },
   "outputs": [
    {
     "data": {
      "text/plain": [
       "Package studyMapperTemplate (7de80a7c-0d59-4c72-a246-c55e46cdf99f)\n"
      ]
     },
     "execution_count": 17,
     "metadata": {},
     "output_type": "execute_result"
    }
   ],
   "source": [
    "package studyMapperTemplate {\n",
    "\n",
    "    doc /* Study Mapper Template - Provides the structure build variable and contastatn mappings between system models model and MS&A tools \n",
    "    - See 'Intro to the SysML v2 Language, p107 */\n",
    "\n",
    "    import ScalarValues::*;\n",
    "    import AnalysisTooling::*;\n",
    "    \n",
    "    action def c_Simulator {\n",
    "    \n",
    "        metadata ToolExecution {\n",
    "            toolName = \"SCILAB_6.0.1\"; \n",
    "            uri = \"http://localhost:5000/sci_script\";\n",
    "        }\n",
    "        \n",
    "        file = \"scripts/test_script.sci\";\n",
    "        curlCall = \"curl -s -o response.txt -w '%{http_code}' -F 'file=@scripts/test_script.sci' 'http://localhost:5000/sci_script'\";\n",
    "        FQN = \"example::block_1::\";\n",
    "        \n",
    "        // Mapping definition\n",
    "        in i_length: Real                { @ToolVariable { name = \"s_length\"; } }\n",
    "        in i_width: Real                 { @ToolVariable { name = \"s_width\"; } }\n",
    "        in i_height: Real                { @ToolVariable { name = \"s_height\"; } }\n",
    "        out m_volume: Real               { @ToolVariable { name = \"r_volume\"; } }\n",
    "    }\n",
    "}"
   ]
  },
  {
   "cell_type": "code",
   "execution_count": 16,
   "id": "7dc67da4-8f69-4cdd-94c5-7816288c5648",
   "metadata": {
    "tags": []
   },
   "outputs": [
    {
     "data": {
      "image/svg+xml": [
       "<?xml version=\"1.0\" encoding=\"UTF-8\" standalone=\"no\"?><svg xmlns=\"http://www.w3.org/2000/svg\" xmlns:xlink=\"http://www.w3.org/1999/xlink\" contentStyleType=\"text/css\" height=\"409px\" preserveAspectRatio=\"none\" style=\"width:895px;height:409px;background:#FFFFFF;\" version=\"1.1\" viewBox=\"0 0 895 409\" width=\"895px\" zoomAndPan=\"magnify\"><defs/><g><!--MD5=[fbc87193dbaf4d95561dea2c320d4a47]\n",
       "cluster E1--><g id=\"cluster_E1\"><a href=\"psysml:c43045d5-5e9e-4829-a90f-fcfb9aeb4c44\" target=\"_top\" title=\"psysml:c43045d5-5e9e-4829-a90f-fcfb9aeb4c44\" xlink:actuate=\"onRequest\" xlink:href=\"psysml:c43045d5-5e9e-4829-a90f-fcfb9aeb4c44\" xlink:show=\"new\" xlink:title=\"psysml:c43045d5-5e9e-4829-a90f-fcfb9aeb4c44\" xlink:type=\"simple\"><polygon fill=\"none\" points=\"16,6,201,6,208,28.2969,878,28.2969,878,402.38,16,402.38,16,6\" style=\"stroke:#000000;stroke-width:1.5;\"/><line style=\"stroke:#000000;stroke-width:1.5;\" x1=\"16\" x2=\"208\" y1=\"28.2969\" y2=\"28.2969\"/><text fill=\"#000000\" font-family=\"sans-serif\" font-size=\"14\" font-weight=\"bold\" lengthAdjust=\"spacing\" textLength=\"179\" x=\"20\" y=\"20.9951\">studyMapperTemplate</text></a></g><!--MD5=[d5e69f78d87373223dbae638b30a9c99]\n",
       "cluster E3--><g id=\"cluster_E3\"><a href=\"psysml:9c6c9f8c-1545-4b97-bf0f-b238dc582b8c\" target=\"_top\" title=\"psysml:9c6c9f8c-1545-4b97-bf0f-b238dc582b8c\" xlink:actuate=\"onRequest\" xlink:href=\"psysml:9c6c9f8c-1545-4b97-bf0f-b238dc582b8c\" xlink:show=\"new\" xlink:title=\"psysml:9c6c9f8c-1545-4b97-bf0f-b238dc582b8c\" xlink:type=\"simple\"><rect fill=\"#FFFFFF\" height=\"264.55\" id=\"E3\" style=\"stroke:#383838;stroke-width:1.5;\" width=\"141\" x=\"329.5\" y=\"91.83\"/><text fill=\"#000000\" font-family=\"sans-serif\" font-size=\"12\" font-style=\"italic\" lengthAdjust=\"spacing\" textLength=\"108\" x=\"346\" y=\"107.9687\">«#ToolExecution»</text><text fill=\"#000000\" font-family=\"sans-serif\" font-size=\"14\" lengthAdjust=\"spacing\" textLength=\"84\" x=\"358\" y=\"123.7939\">c_Simulator</text><line style=\"stroke:#383838;stroke-width:1.0;\" x1=\"329.5\" x2=\"470.5\" y1=\"132.0956\" y2=\"132.0956\"/></a></g><g id=\"elem_E2\"><path d=\"M540,49 L540,134.6641 L846,134.6641 L846,59 L836,49 L540,49 \" fill=\"#FAFAFA\" style=\"stroke:#181818;stroke-width:0.5;\"/><path d=\"M836,49 L836,59 L846,59 L836,49 \" fill=\"#FAFAFA\" style=\"stroke:#181818;stroke-width:1.0;\"/><a href=\"psysml:b494e17b-533e-4454-99cb-b6a997a281a0\" target=\"_top\" title=\"psysml:b494e17b-533e-4454-99cb-b6a997a281a0\" xlink:actuate=\"onRequest\" xlink:href=\"psysml:b494e17b-533e-4454-99cb-b6a997a281a0\" xlink:show=\"new\" xlink:title=\"psysml:b494e17b-533e-4454-99cb-b6a997a281a0\" xlink:type=\"simple\"><text fill=\"#000000\" font-family=\"sans-serif\" font-size=\"13\" lengthAdjust=\"spacing\" text-decoration=\"underline\" textLength=\"13\" x=\"546\" y=\"66.0669\">@</text></a><text fill=\"#000000\" font-family=\"sans-serif\" font-size=\"13\" lengthAdjust=\"spacing\" textLength=\"249\" x=\"559\" y=\"66.0669\">Study Mapper Template - Provides the</text><text fill=\"#000000\" font-family=\"sans-serif\" font-size=\"13\" lengthAdjust=\"spacing\" textLength=\"252\" x=\"546\" y=\"81.1997\">structure build variable and contastatn</text><text fill=\"#000000\" font-family=\"sans-serif\" font-size=\"13\" lengthAdjust=\"spacing\" textLength=\"273\" x=\"546\" y=\"96.3325\">mappings between system models model</text><text fill=\"#000000\" font-family=\"sans-serif\" font-size=\"13\" lengthAdjust=\"spacing\" textLength=\"102\" x=\"546\" y=\"111.4653\">and MS&amp;A tools</text><text fill=\"#000000\" font-family=\"sans-serif\" font-size=\"13\" lengthAdjust=\"spacing\" textLength=\"285\" x=\"546\" y=\"126.5981\">- See 'Intro to the SysML v2 Language, p107</text></g><g id=\"elem_E4\"><path d=\"M40.5,52.56 L40.5,131.0913 L311.5,131.0913 L311.5,62.56 L301.5,52.56 L40.5,52.56 \" fill=\"#FAFAFA\" style=\"stroke:#181818;stroke-width:0.5;\"/><path d=\"M301.5,52.56 L301.5,62.56 L311.5,62.56 L301.5,52.56 \" fill=\"#FAFAFA\" style=\"stroke:#181818;stroke-width:1.0;\"/><text fill=\"#000000\" font-family=\"monospace\" font-size=\"13\" lengthAdjust=\"spacing\" textLength=\"98\" x=\"46.5\" y=\"70.2228\">              </text><a href=\"psysml:274debd9-a26b-4a92-b78f-d83afb3e6ec3\" target=\"_top\" title=\"psysml:274debd9-a26b-4a92-b78f-d83afb3e6ec3\" xlink:actuate=\"onRequest\" xlink:href=\"psysml:274debd9-a26b-4a92-b78f-d83afb3e6ec3\" xlink:show=\"new\" xlink:title=\"psysml:274debd9-a26b-4a92-b78f-d83afb3e6ec3\" xlink:type=\"simple\"><text fill=\"#000000\" font-family=\"sans-serif\" font-size=\"13\" lengthAdjust=\"spacing\" text-decoration=\"underline\" textLength=\"79\" x=\"144.5\" y=\"69.6269\">«metadata»</text></a><text fill=\"#000000\" font-family=\"monospace\" font-size=\"13\" font-style=\"italic\" lengthAdjust=\"spacing\" textLength=\"91\" x=\"46.5\" y=\"85.3556\">             </text><text fill=\"#000000\" font-family=\"sans-serif\" font-size=\"13\" font-style=\"italic\" lengthAdjust=\"spacing\" textLength=\"92\" x=\"137.5\" y=\"84.7597\">ToolExecution</text><line style=\"stroke:#181818;stroke-width:1.0;\" x1=\"41.5\" x2=\"310.5\" y1=\"87.8256\" y2=\"87.8256\"/><text fill=\"#000000\" font-family=\"sans-serif\" font-size=\"13\" lengthAdjust=\"spacing\" textLength=\"184\" x=\"46.5\" y=\"103.8925\">toolName =  \"SCILAB_6.0.1\"</text><text fill=\"#000000\" font-family=\"sans-serif\" font-size=\"13\" lengthAdjust=\"spacing\" textLength=\"250\" x=\"46.5\" y=\"119.0253\">uri =  \"http://localhost:5000/sci_script\"</text></g><text fill=\"#000000\" font-family=\"sans-serif\" font-size=\"14\" lengthAdjust=\"spacing\" textLength=\"56\" x=\"325\" y=\"70.5282\">i_length</text><rect fill=\"#FFFFFF\" height=\"12\" style=\"stroke:#181818;stroke-width:1.5;\" width=\"12\" x=\"347\" y=\"85.83\"/><text fill=\"#000000\" font-family=\"sans-serif\" font-size=\"14\" lengthAdjust=\"spacing\" textLength=\"49\" x=\"375.5\" y=\"70.5282\">i_width</text><rect fill=\"#FFFFFF\" height=\"12\" style=\"stroke:#181818;stroke-width:1.5;\" width=\"12\" x=\"394\" y=\"85.83\"/><text fill=\"#000000\" font-family=\"sans-serif\" font-size=\"14\" lengthAdjust=\"spacing\" textLength=\"56\" x=\"419\" y=\"70.5282\">i_height</text><rect fill=\"#FFFFFF\" height=\"12\" style=\"stroke:#181818;stroke-width:1.5;\" width=\"12\" x=\"441\" y=\"85.83\"/><text fill=\"#000000\" font-family=\"sans-serif\" font-size=\"14\" lengthAdjust=\"spacing\" textLength=\"74\" x=\"389\" y=\"375.3751\">m_volume</text><rect fill=\"#FFFFFF\" height=\"12\" style=\"stroke:#181818;stroke-width:1.5;\" width=\"12\" x=\"420\" y=\"350.38\"/><!--MD5=[f23a504beb17692cf1ec401fb4a5a911]\n",
       "link E2 to E1--><g id=\"link_E2_E1\"><a href=\"psysml:b494e17b-533e-4454-99cb-b6a997a281a0\" target=\"_top\" title=\"psysml:b494e17b-533e-4454-99cb-b6a997a281a0\" xlink:actuate=\"onRequest\" xlink:href=\"psysml:b494e17b-533e-4454-99cb-b6a997a281a0\" xlink:show=\"new\" xlink:title=\"psysml:b494e17b-533e-4454-99cb-b6a997a281a0\" xlink:type=\"simple\"><path d=\"M755.9,134.88 C805.98,168.36 868.03,209.84 869.95,211.13 \" fill=\"none\" id=\"E2-E1\" style=\"stroke:#181818;stroke-width:1.0;stroke-dasharray:7.0,7.0;\"/></a></g><!--MD5=[f0cdf4548168e5211fb3a02bf679d63a]\n",
       "link E4 to E3--><g id=\"link_E4_E3\"><a href=\"psysml:274debd9-a26b-4a92-b78f-d83afb3e6ec3\" target=\"_top\" title=\"psysml:274debd9-a26b-4a92-b78f-d83afb3e6ec3\" xlink:actuate=\"onRequest\" xlink:href=\"psysml:274debd9-a26b-4a92-b78f-d83afb3e6ec3\" xlink:show=\"new\" xlink:title=\"psysml:274debd9-a26b-4a92-b78f-d83afb3e6ec3\" xlink:type=\"simple\"><path d=\"M257.86,131.57 C280.29,142.19 304.83,153.8075 328.06,164.8038 C328.423,164.9756 328.7856,165.1472 329.1479,165.3187 \" fill=\"none\" id=\"E4-to-E3\" style=\"stroke:#181818;stroke-width:1.0;stroke-dasharray:7.0,7.0;\"/><ellipse cx=\"323.7248\" cy=\"162.7516\" fill=\"#181818\" rx=\"6\" ry=\"6\" style=\"stroke:#181818;stroke-width:1.5;\"/><text fill=\"#000000\" font-family=\"sans-serif\" font-size=\"13\" lengthAdjust=\"spacing\" textLength=\"7\" x=\"383.4\" y=\"191.3769\">*</text></a></g><!--MD5=[4d0d6cdb0cf00c630a4e4cef4ffb0f01]\n",
       "@startuml\r\n",
       "skin sysmlbw\r\n",
       "skinparam monochrome true\r\n",
       "skinparam wrapWidth 300\r\n",
       "hide circle\r\n",
       "\r\n",
       "package \"studyMapperTemplate\" as E1  [[psysml:c43045d5-5e9e-4829-a90f-fcfb9aeb4c44 ]]  {\r\n",
       "rec def \"c_Simulator\" as E3 <<#ToolExecution>>[[psysml:9c6c9f8c-1545-4b97-bf0f-b238dc582b8c ]] {\r\n",
       "portin \"i_length\" as E5  [[psysml:8077e1ea-128e-4356-aaa7-e75ecb64d1ce ]] \r\n",
       "portin \"i_width\" as E6  [[psysml:a06bf590-a16f-4dff-be94-9ac8206daecd ]] \r\n",
       "portin \"i_height\" as E7  [[psysml:6e047355-01d8-4dbd-8326-00907e062d00 ]] \r\n",
       "portout \"m_volume\" as E8  [[psysml:0104cbb4-a14b-466d-b3c5-0ceff3ae2236 ]] \r\n",
       "}\r\n",
       "\r\n",
       "note as E2\r\n",
       "[[psysml:b494e17b-533e-4454-99cb-b6a997a281a0 @]]Study Mapper Template - Provides the structure build variable and contastatn mappings between system models model and MS&A tools\r\n",
       "- See 'Intro to the SysML v2 Language, p107\r\n",
       "end note \r\n",
       "note as E4\r\n",
       "\"\"              \"\"[[psysml:274debd9-a26b-4a92-b78f-d83afb3e6ec3 «metadata»]]\r\n",
       "==== \"\"             \"\"ToolExecution\r\n",
       "- -\r\n",
       "toolName =  \"SCILAB_6.0.1\"\r\n",
       "uri =  \"http://localhost:5000/sci_script\"\r\n",
       "end note\r\n",
       "}\r\n",
       "E2 .. E1 [[psysml:b494e17b-533e-4454-99cb-b6a997a281a0 ]] \r\n",
       "E4 ..@ \"*\"E3 [[psysml:274debd9-a26b-4a92-b78f-d83afb3e6ec3 ]] \r\n",
       "@enduml\r\n",
       "\n",
       "PlantUML version 1.2022.7(Mon Aug 22 17:01:30 UTC 2022)\n",
       "(EPL source distribution)\n",
       "Java Runtime: OpenJDK Runtime Environment\n",
       "JVM: OpenJDK 64-Bit Server VM\n",
       "Default Encoding: UTF-8\n",
       "Language: en\n",
       "Country: null\n",
       "--></g></svg>"
      ]
     },
     "execution_count": 16,
     "metadata": {},
     "output_type": "execute_result"
    }
   ],
   "source": [
    "%viz studyMapperTemplate"
   ]
  },
  {
   "cell_type": "code",
   "execution_count": null,
   "id": "88603089-ec21-464d-86cb-b2cffd787e9f",
   "metadata": {},
   "outputs": [],
   "source": []
  }
 ],
 "metadata": {
  "kernelspec": {
   "display_name": "SysML",
   "language": "sysml",
   "name": "sysml"
  },
  "language_info": {
   "codemirror_mode": "sysml",
   "file_extension": ".sysml",
   "mimetype": "text/x-sysml",
   "name": "SysML",
   "pygments_lexer": "java",
   "version": "1.0.0"
  }
 },
 "nbformat": 4,
 "nbformat_minor": 5
}
