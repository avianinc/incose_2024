{
 "cells": [
  {
   "cell_type": "markdown",
   "id": "204b997a-5aef-4381-a1ce-efad3f883800",
   "metadata": {
    "kernel": "SoS"
   },
   "source": [
    "# Create a simple ai assistant \n",
    "- This example we create a simple ai assistant and ask it a question about a sysml model.\n",
    "- We can extract the returned python code."
   ]
  },
  {
   "cell_type": "code",
   "execution_count": 1,
   "id": "7085c958-0eec-4cc1-8d82-f6c11719edde",
   "metadata": {
    "kernel": "Python3",
    "tags": []
   },
   "outputs": [],
   "source": [
    "from openai import OpenAI\n",
    "import os\n",
    "API_KEY=os.environ.get('OPENAI_API_KEY')"
   ]
  },
  {
   "cell_type": "code",
   "execution_count": 2,
   "id": "a4990100-4fdd-4894-a234-fdba2efb5538",
   "metadata": {
    "kernel": "Python3",
    "tags": []
   },
   "outputs": [
    {
     "data": {
      "text/plain": [
       "'/usr/src/app/notebooks/simple_example/models'"
      ]
     },
     "execution_count": 2,
     "metadata": {},
     "output_type": "execute_result"
    }
   ],
   "source": [
    "# Set up directories\n",
    "BASE_DIR = os.getcwd() + \"/\" + \"models\"\n",
    "BASE_DIR"
   ]
  },
  {
   "cell_type": "code",
   "execution_count": 3,
   "id": "1966b7e1-626a-4e2a-94a7-d44b00c20a36",
   "metadata": {
    "kernel": "Python3",
    "tags": []
   },
   "outputs": [
    {
     "name": "stdout",
     "output_type": "stream",
     "text": [
      "package block {\n",
      "    import ScalarValues::*;\n",
      "    \n",
      "    attribute def Length;\n",
      "    attribute def Width;\n",
      "    attribute def Height;\n",
      "    attribute def Volume;\n",
      "    \n",
      "    par def Block {\n",
      "        attribute length: Length;\n",
      "        attribute width: Width;\n",
      "        attribute heigth: Height;\n",
      "        attribute volume: Volume;\n",
      "    }\n",
      "    \n",
      "    part block_1 {\n",
      "        attribute i_length: Real = 2;\n",
      "        attribute i_width: Real = 2;\n",
      "        attribute i_heigth: Real = 2;\n",
      "        attribute volume: Real = 0;\n",
      "    }\n",
      "    \n",
      "    analysis def VolumeAnalysis {\n",
      "        subject block_1: Block\n",
      "    }\n",
      "}\n"
     ]
    }
   ],
   "source": [
    "%put file_content\n",
    "# Python kernel cell\n",
    "# Read the file and store its content in a variable\n",
    "file_path = f'{BASE_DIR}/block.sysml'\n",
    "with open(file_path, 'r') as file:\n",
    "    file_content = file.read()\n",
    "    print(file_content)"
   ]
  },
  {
   "cell_type": "code",
   "execution_count": 4,
   "id": "1a3ea72e-2b72-4494-8f49-5a872fe2b6d2",
   "metadata": {
    "kernel": "Python3"
   },
   "outputs": [
    {
     "data": {
      "text/plain": [
       "<openai.OpenAI at 0x7f193b4c46a0>"
      ]
     },
     "execution_count": 4,
     "metadata": {},
     "output_type": "execute_result"
    }
   ],
   "source": [
    "client = OpenAI(api_key=API_KEY,)\n",
    "client"
   ]
  },
  {
   "cell_type": "code",
   "execution_count": 5,
   "id": "0363a370-e555-42a6-bf37-730d0a31a4a8",
   "metadata": {
    "kernel": "Python3",
    "tags": []
   },
   "outputs": [
    {
     "name": "stdout",
     "output_type": "stream",
     "text": [
      "['file-mX9xpjufwCRtp6M92Pr9krxi']\n"
     ]
    }
   ],
   "source": [
    "file_ids = []\n",
    "# Assuming client.files.create correctly uploads the files and returns their file objects\n",
    "model = client.files.create(file=open(f'{BASE_DIR}/block.sysml', \"rb\"), purpose='assistants')\n",
    "file_ids.append(model.id)\n",
    "# template = client.files.create(file=open(f'{BASE_DIR}/template.sysml', \"rb\"), purpose='assistants')\n",
    "# file_ids.append(template.id)\n",
    "print(file_ids)"
   ]
  },
  {
   "cell_type": "code",
   "execution_count": 6,
   "id": "46a1ec7f-f838-4307-9547-cc78eda33bd2",
   "metadata": {
    "kernel": "Python3",
    "tags": []
   },
   "outputs": [
    {
     "data": {
      "text/plain": [
       "[{'type': 'retrieval'}]"
      ]
     },
     "execution_count": 6,
     "metadata": {},
     "output_type": "execute_result"
    }
   ],
   "source": [
    "tools = [{\"type\": \"retrieval\"}]\n",
    "tools"
   ]
  },
  {
   "cell_type": "code",
   "execution_count": 7,
   "id": "234db59e-e69c-4f22-964e-892d79db469c",
   "metadata": {
    "kernel": "Python3",
    "tags": []
   },
   "outputs": [
    {
     "name": "stdout",
     "output_type": "stream",
     "text": [
      "asst_aI6R7QsXXEjsvU0I2NMP8Z8O\n"
     ]
    }
   ],
   "source": [
    "# Pass file_ids directly to the assistant creation call\n",
    "assistant = client.beta.assistants.create(\n",
    "    name=\"SysMLv2-Example\",\n",
    "    instructions=\"You are a helpful assistant. Given a set of files, you extract the most interesting information and restructure it into python code to be executed as a part of a digital workflow.\",\n",
    "    model=\"gpt-4-1106-preview\",\n",
    "    tools=tools,  # Ensure tools is defined earlier or include the necessary tools here\n",
    "    file_ids=file_ids  # Use the list directly without wrapping it in another list\n",
    ")\n",
    "\n",
    "assistant_id = assistant.id\n",
    "print(assistant_id)"
   ]
  },
  {
   "cell_type": "code",
   "execution_count": 8,
   "id": "3efa823e-e305-4a34-b2c2-e8d4bf6377c2",
   "metadata": {
    "kernel": "Python3",
    "tags": []
   },
   "outputs": [
    {
     "data": {
      "text/plain": [
       "'thread_mpp1g4U1eZdqOBQzHpmVYEdT'"
      ]
     },
     "execution_count": 8,
     "metadata": {},
     "output_type": "execute_result"
    }
   ],
   "source": [
    "thread = client.beta.threads.create(\n",
    "  messages=[\n",
    "    {\n",
    "      \"role\": \"user\",\n",
    "      \"content\": \"Discuss the block.sysml model and provide some example python code to evaluate the model?\",\n",
    "      \"file_ids\": file_ids\n",
    "    }\n",
    "  ]\n",
    ")\n",
    "\n",
    "thread_id = thread.id\n",
    "thread_id"
   ]
  },
  {
   "cell_type": "code",
   "execution_count": 9,
   "id": "03359b7a-1ded-4544-8b43-b3eb7c882ff2",
   "metadata": {
    "kernel": "Python3",
    "tags": []
   },
   "outputs": [
    {
     "data": {
      "text/plain": [
       "'run_3weORQnKvJO83CCZHMfkStfH'"
      ]
     },
     "execution_count": 9,
     "metadata": {},
     "output_type": "execute_result"
    }
   ],
   "source": [
    "run = client.beta.threads.runs.create(\n",
    "  thread_id=thread_id,\n",
    "  assistant_id=assistant_id\n",
    ")\n",
    "\n",
    "run_id = run.id\n",
    "run_id"
   ]
  },
  {
   "cell_type": "code",
   "execution_count": 10,
   "id": "df76f5b9-9570-4037-91ad-cb22eede0394",
   "metadata": {
    "kernel": "Python3",
    "tags": []
   },
   "outputs": [
    {
     "name": "stdout",
     "output_type": "stream",
     "text": [
      "Current status: in_progress\n",
      "Current status: in_progress\n",
      "Current status: in_progress\n",
      "Current status: in_progress\n",
      "Current status: in_progress\n",
      "Current status: in_progress\n",
      "Current status: in_progress\n",
      "Current status: in_progress\n",
      "Current status: in_progress\n",
      "Current status: in_progress\n",
      "Current status: in_progress\n",
      "Current status: in_progress\n",
      "Current status: in_progress\n",
      "Current status: in_progress\n",
      "Current status: in_progress\n",
      "Current status: in_progress\n",
      "Current status: completed\n",
      "Run is complete.\n"
     ]
    }
   ],
   "source": [
    "import time\n",
    "\n",
    "# Start an infinite loop to continuously check the status\n",
    "while True:\n",
    "    # Retrieve the current status of the run\n",
    "    run_status_response = client.beta.threads.runs.retrieve(thread_id=thread_id, run_id=run_id)\n",
    "    \n",
    "    # Check if the response has the attribute or key for status; adjust based on the response structure\n",
    "    if hasattr(run_status_response, 'status'):  # If the response is an object with attributes\n",
    "        current_status = run_status_response.status\n",
    "    elif 'status' in run_status_response:  # If the response is a dictionary\n",
    "        current_status = run_status_response['status']\n",
    "    else:\n",
    "        print(\"Unable to find status in the response.\")\n",
    "        break\n",
    "    \n",
    "    print(f\"Current status: {current_status}\")\n",
    "    \n",
    "    # Break the loop if the run status is 'complete' or adjust according to the correct completion status\n",
    "    if current_status == 'completed':\n",
    "        print(\"Run is complete.\")\n",
    "        break\n",
    "    elif current_status == 'failed':\n",
    "        print(\"Run failed.\")\n",
    "        break\n",
    "    \n",
    "    # Sleep for a bit before checking the status again to avoid overwhelming the server\n",
    "    time.sleep(2)"
   ]
  },
  {
   "cell_type": "code",
   "execution_count": 11,
   "id": "d88a9125-5d8d-47e0-b328-abac0bcf61cb",
   "metadata": {
    "kernel": "Python3",
    "tags": []
   },
   "outputs": [
    {
     "data": {
      "text/plain": [
       "SyncCursorPage[Message](data=[Message(id='msg_a2fyH25XyVhl0OUdp0IjUTYU', assistant_id='asst_aI6R7QsXXEjsvU0I2NMP8Z8O', completed_at=None, content=[TextContentBlock(text=Text(annotations=[], value='of file or use a local Python environment to parse and evaluate the SysML model.\\n\\nIf you have further details about the model or require assistance with a different task, please let me know!'), type='text')], created_at=1712156331, file_ids=[], incomplete_at=None, incomplete_details=None, metadata={}, object='thread.message', role='assistant', run_id='run_3weORQnKvJO83CCZHMfkStfH', status=None, thread_id='thread_mpp1g4U1eZdqOBQzHpmVYEdT'), Message(id='msg_CaEjdz4oetv9WSE7LgPSLYAz', assistant_id='asst_aI6R7QsXXEjsvU0I2NMP8Z8O', completed_at=None, content=[TextContentBlock(text=Text(annotations=[], value='It appears that the file you uploaded is a SysML (Systems Modeling Language) model which goes by the name `block.sysml`. SysML is a general-purpose modeling language for systems engineering applications which supports the specification, analysis, design, verification, and validation of a broad range of systems and systems-of-systems.\\n\\nSince your file cannot be accessed directly by the `myfiles_browser` tool, I am unable to read or analyze its contents, so I can\\'t discuss the specifics of your `block.sysml` model.\\n\\nHowever, I can guide you on how to process and evaluate a SysML model using Python in general. Python doesn\\'t have native support for SysML, but you can use external libraries such as `PySysML` to work with SysML models.\\n\\nTo proceed with the evaluation of a SysML model, you\\'ll typically want to do the following:\\n\\n1. Parse the SysML model into a Python-readable format.\\n2. Interact with the model, extract relevant information, or modify the model.\\n3. Evaluate the model by applying specific criteria or performing simulations.\\n\\nBelow is an example of Python code that you might use to evaluate a SysML model, assuming you had a parser and evaluation framework in place:\\n\\n```python\\nfrom sysml_parser import parse_sysml\\nfrom sysml_evaluator import evaluate_model\\n\\n# Load your SysML model\\nsysml_model_path = \\'path_to_your_block.sysml\\'\\n\\n# Parse the SysML model into a readable format for Python\\nmodel = parse_sysml(sysml_model_path)\\n\\n# Evaluate the SysML model\\nevaluation_results = evaluate_model(model)\\n\\n# Print the results\\nprint(\"Evaluation of the SysML model:\")\\nfor result in evaluation_results:\\n    print(result)\\n```\\n\\nTo run this code, you would need to implement or use existing implementations of `parse_sysml` and `evaluate_model`. Since these functions are not part of any standard Python library, they would typically be part of a specialized systems engineering package or a custom toolkit developed for interacting with SysML models.\\n\\nNote that the `path_to_your_block.sysml` should be replaced with the actual path to your SysML file, and this code assumes that the `sysml_parser` and `sysml_evaluator` are modules that you have available in your Python environment.\\n\\nWithout the specific details of your `block.sysml` model or an appropriate SysML library, I cannot provide a more accurate example. You might want to upload a different type'), type='text')], created_at=1712156301, file_ids=[], incomplete_at=None, incomplete_details=None, metadata={}, object='thread.message', role='assistant', run_id='run_3weORQnKvJO83CCZHMfkStfH', status=None, thread_id='thread_mpp1g4U1eZdqOBQzHpmVYEdT'), Message(id='msg_jItcQ4bpfBRWqHP7YKNoDFMO', assistant_id=None, completed_at=None, content=[TextContentBlock(text=Text(annotations=[], value='Discuss the block.sysml model and provide some example python code to evaluate the model?'), type='text')], created_at=1712156298, file_ids=['file-mX9xpjufwCRtp6M92Pr9krxi'], incomplete_at=None, incomplete_details=None, metadata={}, object='thread.message', role='user', run_id=None, status=None, thread_id='thread_mpp1g4U1eZdqOBQzHpmVYEdT')], object='list', first_id='msg_a2fyH25XyVhl0OUdp0IjUTYU', last_id='msg_jItcQ4bpfBRWqHP7YKNoDFMO', has_more=False)"
      ]
     },
     "execution_count": 11,
     "metadata": {},
     "output_type": "execute_result"
    }
   ],
   "source": [
    "# Retrieve the list of messages for the specified thread_id (pause for a return here)\n",
    "thread_messages = client.beta.threads.messages.list(thread_id=thread_id)\n",
    "thread_messages"
   ]
  },
  {
   "cell_type": "code",
   "execution_count": 12,
   "id": "b33e8fae-a583-40da-bdf9-a567e13dcac4",
   "metadata": {
    "kernel": "Python3",
    "tags": []
   },
   "outputs": [
    {
     "name": "stdout",
     "output_type": "stream",
     "text": [
      "\n",
      "Role: assistant\n",
      "Content: of file or use a local Python environment to parse and evaluate the SysML model.\n",
      "\n",
      "If you have further details about the model or require assistance with a different task, please let me know!\n",
      "No attached files.\n",
      "\n",
      "--------------------------------------------------\n",
      "\n",
      "Role: assistant\n",
      "Content: It appears that the file you uploaded is a SysML (Systems Modeling Language) model which goes by the name `block.sysml`. SysML is a general-purpose modeling language for systems engineering applications which supports the specification, analysis, design, verification, and validation of a broad range of systems and systems-of-systems.\n",
      "\n",
      "Since your file cannot be accessed directly by the `myfiles_browser` tool, I am unable to read or analyze its contents, so I can't discuss the specifics of your `block.sysml` model.\n",
      "\n",
      "However, I can guide you on how to process and evaluate a SysML model using Python in general. Python doesn't have native support for SysML, but you can use external libraries such as `PySysML` to work with SysML models.\n",
      "\n",
      "To proceed with the evaluation of a SysML model, you'll typically want to do the following:\n",
      "\n",
      "1. Parse the SysML model into a Python-readable format.\n",
      "2. Interact with the model, extract relevant information, or modify the model.\n",
      "3. Evaluate the model by applying specific criteria or performing simulations.\n",
      "\n",
      "Below is an example of Python code that you might use to evaluate a SysML model, assuming you had a parser and evaluation framework in place:\n",
      "\n",
      "```python\n",
      "from sysml_parser import parse_sysml\n",
      "from sysml_evaluator import evaluate_model\n",
      "\n",
      "# Load your SysML model\n",
      "sysml_model_path = 'path_to_your_block.sysml'\n",
      "\n",
      "# Parse the SysML model into a readable format for Python\n",
      "model = parse_sysml(sysml_model_path)\n",
      "\n",
      "# Evaluate the SysML model\n",
      "evaluation_results = evaluate_model(model)\n",
      "\n",
      "# Print the results\n",
      "print(\"Evaluation of the SysML model:\")\n",
      "for result in evaluation_results:\n",
      "    print(result)\n",
      "```\n",
      "\n",
      "To run this code, you would need to implement or use existing implementations of `parse_sysml` and `evaluate_model`. Since these functions are not part of any standard Python library, they would typically be part of a specialized systems engineering package or a custom toolkit developed for interacting with SysML models.\n",
      "\n",
      "Note that the `path_to_your_block.sysml` should be replaced with the actual path to your SysML file, and this code assumes that the `sysml_parser` and `sysml_evaluator` are modules that you have available in your Python environment.\n",
      "\n",
      "Without the specific details of your `block.sysml` model or an appropriate SysML library, I cannot provide a more accurate example. You might want to upload a different type\n",
      "No attached files.\n",
      "\n",
      "--------------------------------------------------\n",
      "\n",
      "Role: user\n",
      "Content: Discuss the block.sysml model and provide some example python code to evaluate the model?\n",
      "Attached Files:\n",
      " - file-mX9xpjufwCRtp6M92Pr9krxi\n",
      "\n",
      "--------------------------------------------------\n"
     ]
    }
   ],
   "source": [
    "# Function to handle and print each content block in a message\n",
    "def print_content_blocks(content_blocks):\n",
    "    for block in content_blocks:\n",
    "        # Assuming 'type' and 'text' are attributes of the block object\n",
    "        if hasattr(block, 'type') and block.type == 'text':\n",
    "            # Further assuming 'value' can be accessed directly from the 'text' attribute\n",
    "            if hasattr(block.text, 'value'):\n",
    "                text_value = block.text.value\n",
    "                print(f\"Content: {text_value}\")\n",
    "            else:\n",
    "                print(\"Content: [Text block without accessible value]\")\n",
    "        else:\n",
    "            # Handle other types of content blocks or print a placeholder\n",
    "            print(\"Content: [Non-text content block]\")\n",
    "\n",
    "# Sample code to iterate through messages and print their content\n",
    "for message in thread_messages.data:\n",
    "    print(f\"\\nRole: {message.role}\")\n",
    "    \n",
    "    # If 'content' is expected to be a list or similar iterable of content blocks\n",
    "    if hasattr(message, 'content') and isinstance(message.content, list):\n",
    "        print_content_blocks(message.content)\n",
    "    else:\n",
    "        # If 'content' is not a list, try to print it directly (or handle it as needed)\n",
    "        print(\"Content: [Message content is not a list]\")\n",
    "    \n",
    "    # Check for attached files\n",
    "    if hasattr(message, 'file_ids') and message.file_ids:\n",
    "        print(\"Attached Files:\")\n",
    "        for file_id in message.file_ids:\n",
    "            print(f\" - {file_id}\")\n",
    "    else:\n",
    "        print(\"No attached files.\")\n",
    "\n",
    "    print(\"\\n\" + \"-\"*50)\n"
   ]
  },
  {
   "cell_type": "code",
   "execution_count": 13,
   "id": "6058a724-f2b3-42af-a619-abb8da67265a",
   "metadata": {
    "kernel": "Python3",
    "tags": []
   },
   "outputs": [
    {
     "name": "stdout",
     "output_type": "stream",
     "text": [
      "Python Code Block 1:\n",
      "from sysml_parser import parse_sysml\n",
      "from sysml_evaluator import evaluate_model\n",
      "\n",
      "# Load your SysML model\n",
      "sysml_model_path = 'path_to_your_block.sysml'\n",
      "\n",
      "# Parse the SysML model into a readable format for Python\n",
      "model = parse_sysml(sysml_model_path)\n",
      "\n",
      "# Evaluate the SysML model\n",
      "evaluation_results = evaluate_model(model)\n",
      "\n",
      "# Print the results\n",
      "print(\"Evaluation of the SysML model:\")\n",
      "for result in evaluation_results:\n",
      "    print(result)\n",
      "\n",
      "\n",
      "---\n",
      "\n"
     ]
    }
   ],
   "source": [
    "import re\n",
    "\n",
    "# Function to extract and print Python code blocks from the raw message data\n",
    "def extract_python_code(raw_messages):\n",
    "    python_code_blocks = []\n",
    "    \n",
    "    # Regular expression pattern to match Python code blocks\n",
    "    python_code_pattern = re.compile(r\"```python\\n(.*?)```\", re.DOTALL)\n",
    "    \n",
    "    for message in raw_messages:\n",
    "        for content_block in message.content:\n",
    "            # Assuming each content_block has a 'text' object with a 'value' attribute\n",
    "            text_content = content_block.text.value\n",
    "            \n",
    "            # Search for Python code blocks within the text content\n",
    "            matches = python_code_pattern.findall(text_content)\n",
    "            python_code_blocks.extend(matches)\n",
    "    \n",
    "    return python_code_blocks\n",
    "\n",
    "# Assuming 'thread_messages.data' is a list of messages as described in your raw thread message structure\n",
    "raw_messages = thread_messages.data  # This should be the actual data structure containing your messages\n",
    "\n",
    "# Extract Python code blocks\n",
    "extracted_python_code = extract_python_code(raw_messages)\n",
    "\n",
    "# Print extracted Python code blocks\n",
    "for index, code in enumerate(extracted_python_code, start=1):\n",
    "    print(f\"Python Code Block {index}:\\n{code}\\n\\n---\\n\")\n"
   ]
  },
  {
   "cell_type": "code",
   "execution_count": 14,
   "id": "f47c0534-d83a-4561-bd44-68b4f3733a10",
   "metadata": {
    "kernel": "Python3",
    "tags": []
   },
   "outputs": [
    {
     "data": {
      "text/plain": [
       "AssistantDeleted(id='asst_aI6R7QsXXEjsvU0I2NMP8Z8O', deleted=True, object='assistant.deleted')"
      ]
     },
     "execution_count": 14,
     "metadata": {},
     "output_type": "execute_result"
    }
   ],
   "source": [
    "# Lets clean up the assistnat and the files\n",
    "\n",
    "# Delete the files first\n",
    "client.files.delete(file_ids[0])\n",
    "\n",
    "# Then delete the assistant\n",
    "client.beta.assistants.delete(assistant_id)"
   ]
  }
 ],
 "metadata": {
  "kernelspec": {
   "display_name": "SoS",
   "language": "sos",
   "name": "sos"
  },
  "language_info": {
   "codemirror_mode": "sos",
   "file_extension": ".sos",
   "mimetype": "text/x-sos",
   "name": "sos",
   "nbconvert_exporter": "sos_notebook.converter.SoS_Exporter",
   "pygments_lexer": "sos"
  },
  "sos": {
   "kernels": [
    [
     "Python3",
     "python3",
     "Python3",
     "#FFD91A",
     {
      "name": "ipython",
      "version": 3
     }
    ],
    [
     "SysML",
     "sysml",
     "sysml",
     "",
     "sysml"
    ]
   ],
   "version": "0.24.3"
  }
 },
 "nbformat": 4,
 "nbformat_minor": 5
}
